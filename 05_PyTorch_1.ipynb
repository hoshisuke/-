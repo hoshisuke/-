{
  "nbformat": 4,
  "nbformat_minor": 0,
  "metadata": {
    "colab": {
      "provenance": [],
      "include_colab_link": true
    },
    "kernelspec": {
      "name": "python3",
      "display_name": "Python 3"
    },
    "accelerator": "GPU"
  },
  "cells": [
    {
      "cell_type": "markdown",
      "metadata": {
        "id": "view-in-github",
        "colab_type": "text"
      },
      "source": [
        "<a href=\"https://colab.research.google.com/github/hoshisuke/-/blob/main/05_PyTorch_1.ipynb\" target=\"_parent\"><img src=\"https://colab.research.google.com/assets/colab-badge.svg\" alt=\"Open In Colab\"/></a>"
      ]
    },
    {
      "cell_type": "markdown",
      "metadata": {
        "id": "jEY4wJjS58Uw"
      },
      "source": [
        "# PyTorch入門 (1)\n",
        "参考資料: \n",
        "* PyTorch公式のチュートリアル https://pytorch.org/tutorials/index.html"
      ]
    },
    {
      "cell_type": "markdown",
      "metadata": {
        "id": "D4eoNznm85cQ"
      },
      "source": [
        "注意:\n",
        "* ランタイムのタイプをGPUにしておいてください。\n",
        "  * 上のメニュー「ランタイム」→「ランタイムのタイプを変更」で「GPU」を選択 \n"
      ]
    },
    {
      "cell_type": "markdown",
      "source": [
        "## Reproducibility\n",
        "* 乱数のシードを設定して、実験の再現性を確保する。\n",
        " * https://pytorch.org/docs/stable/notes/randomness.html"
      ],
      "metadata": {
        "id": "if8bT5GDUHJU"
      }
    },
    {
      "cell_type": "code",
      "source": [
        "import random\n",
        "import numpy as np\n",
        "import torch\n",
        "\n",
        "random.seed(0)\n",
        "np.random.seed(0)\n",
        "torch.manual_seed(0)"
      ],
      "metadata": {
        "id": "E16ZvtoIUJtQ",
        "colab": {
          "base_uri": "https://localhost:8080/"
        },
        "outputId": "2a159eff-a1e4-473c-9fa8-a35c5dd8e177"
      },
      "execution_count": null,
      "outputs": [
        {
          "output_type": "execute_result",
          "data": {
            "text/plain": [
              "<torch._C.Generator at 0x7fa9bdefb2f0>"
            ]
          },
          "metadata": {},
          "execution_count": 1
        }
      ]
    },
    {
      "cell_type": "markdown",
      "metadata": {
        "id": "Nb3T_6gD6Anx"
      },
      "source": [
        "## テンソル"
      ]
    },
    {
      "cell_type": "markdown",
      "metadata": {
        "id": "3FXJ5hE3qeL4"
      },
      "source": [
        "### テンソルの作り方"
      ]
    },
    {
      "cell_type": "code",
      "metadata": {
        "id": "vJm1Nbbo--oF",
        "colab": {
          "base_uri": "https://localhost:8080/"
        },
        "outputId": "d19e8ee6-6960-42c7-af1b-26c5789dd146"
      },
      "source": [
        "# 1で埋められたテンソルを作る\n",
        "x = torch.ones(2, 5)\n",
        "print(x)"
      ],
      "execution_count": null,
      "outputs": [
        {
          "output_type": "stream",
          "name": "stdout",
          "text": [
            "tensor([[1., 1., 1., 1., 1.],\n",
            "        [1., 1., 1., 1., 1.]])\n"
          ]
        }
      ]
    },
    {
      "cell_type": "code",
      "metadata": {
        "id": "_JKj6OfJBpcv",
        "colab": {
          "base_uri": "https://localhost:8080/"
        },
        "outputId": "d008961c-af1a-4b9f-f146-906e100adb4c"
      },
      "source": [
        "# 要素のデータ型を確認する\n",
        "print(x.dtype)"
      ],
      "execution_count": null,
      "outputs": [
        {
          "output_type": "stream",
          "name": "stdout",
          "text": [
            "torch.float32\n"
          ]
        }
      ]
    },
    {
      "cell_type": "code",
      "metadata": {
        "id": "v2_2JQuB_Efe",
        "colab": {
          "base_uri": "https://localhost:8080/"
        },
        "outputId": "ba729af8-ea61-4880-e35a-5d6098ebdb8f"
      },
      "source": [
        "# 0で埋められたテンソルを作る\n",
        "x = torch.zeros(4, 4)\n",
        "print(x)"
      ],
      "execution_count": null,
      "outputs": [
        {
          "output_type": "stream",
          "name": "stdout",
          "text": [
            "tensor([[0., 0., 0., 0.],\n",
            "        [0., 0., 0., 0.],\n",
            "        [0., 0., 0., 0.],\n",
            "        [0., 0., 0., 0.]])\n"
          ]
        }
      ]
    },
    {
      "cell_type": "code",
      "metadata": {
        "id": "9yyGCRno_TXq",
        "colab": {
          "base_uri": "https://localhost:8080/"
        },
        "outputId": "e2c9f16d-b21b-4d3d-9150-a4c2495b2ce8"
      },
      "source": [
        "# 特定の値で埋められたテンソルを作る\n",
        "x = torch.full((2, 3), 3.14159)\n",
        "print(x)"
      ],
      "execution_count": null,
      "outputs": [
        {
          "output_type": "stream",
          "name": "stdout",
          "text": [
            "tensor([[3.1416, 3.1416, 3.1416],\n",
            "        [3.1416, 3.1416, 3.1416]])\n"
          ]
        }
      ]
    },
    {
      "cell_type": "code",
      "metadata": {
        "id": "3ajeiMCeq5-y",
        "colab": {
          "base_uri": "https://localhost:8080/"
        },
        "outputId": "279b5c8f-b28b-4afd-d1f7-99424c3851c7"
      },
      "source": [
        "# [0,1)の一様乱数を要素とするテンソルを作る\n",
        "x = torch.rand(5, 3)\n",
        "print(x)"
      ],
      "execution_count": null,
      "outputs": [
        {
          "output_type": "stream",
          "name": "stdout",
          "text": [
            "tensor([[0.4963, 0.7682, 0.0885],\n",
            "        [0.1320, 0.3074, 0.6341],\n",
            "        [0.4901, 0.8964, 0.4556],\n",
            "        [0.6323, 0.3489, 0.4017],\n",
            "        [0.0223, 0.1689, 0.2939]])\n"
          ]
        }
      ]
    },
    {
      "cell_type": "code",
      "metadata": {
        "id": "eNtphqmer-bo",
        "colab": {
          "base_uri": "https://localhost:8080/"
        },
        "outputId": "3a34802b-326e-4176-8688-704b58c91037"
      },
      "source": [
        "# Pythonのリストからテンソルを作る\n",
        "x = torch.tensor([5.5, 3])\n",
        "print(x)"
      ],
      "execution_count": null,
      "outputs": [
        {
          "output_type": "stream",
          "name": "stdout",
          "text": [
            "tensor([5.5000, 3.0000])\n"
          ]
        }
      ]
    },
    {
      "cell_type": "code",
      "metadata": {
        "id": "CQD9IrR__a4O",
        "colab": {
          "base_uri": "https://localhost:8080/"
        },
        "outputId": "e6f6c3f8-5e30-4511-de34-0afe88b81c0f"
      },
      "source": [
        "# NumPyのndarrayからテンソルを作る\n",
        "a = np.array([1, 2, 3])\n",
        "print(a)\n",
        "t = torch.from_numpy(a)\n",
        "print(t)"
      ],
      "execution_count": null,
      "outputs": [
        {
          "output_type": "stream",
          "name": "stdout",
          "text": [
            "[1 2 3]\n",
            "tensor([1, 2, 3])\n"
          ]
        }
      ]
    },
    {
      "cell_type": "code",
      "source": [
        "# NumPyのndarrayの要素を変更するとどうなるか？\n",
        "a[0] = -1\n",
        "print(t)"
      ],
      "metadata": {
        "id": "78w5didkL3gV",
        "colab": {
          "base_uri": "https://localhost:8080/"
        },
        "outputId": "a6ad59d5-f924-4499-98e6-4cb1405bdbf1"
      },
      "execution_count": null,
      "outputs": [
        {
          "output_type": "stream",
          "name": "stdout",
          "text": [
            "tensor([-1,  2,  3])\n"
          ]
        }
      ]
    },
    {
      "cell_type": "code",
      "source": [
        "# テンソルのほうの要素を変更するとどうなるか?\n",
        "t[1] = -2\n",
        "print(a)"
      ],
      "metadata": {
        "id": "KYqUhYzjL5se",
        "colab": {
          "base_uri": "https://localhost:8080/"
        },
        "outputId": "5e798bdc-cd58-40a1-ddc5-0d76e0c53413"
      },
      "execution_count": null,
      "outputs": [
        {
          "output_type": "stream",
          "name": "stdout",
          "text": [
            "[-1 -2  3]\n"
          ]
        }
      ]
    },
    {
      "cell_type": "code",
      "metadata": {
        "id": "pZMEJU17AUMf",
        "colab": {
          "base_uri": "https://localhost:8080/"
        },
        "outputId": "ab530a9b-0973-49ae-a496-21c089bd796a"
      },
      "source": [
        "# cloneメソッドを使ってテンソルの複製を作る\n",
        "a = np.array([1, 2, 3])\n",
        "print(a)\n",
        "t = torch.from_numpy(a)\n",
        "print(t)\n",
        "s = t.clone()\n",
        "print(s)"
      ],
      "execution_count": null,
      "outputs": [
        {
          "output_type": "stream",
          "name": "stdout",
          "text": [
            "[1 2 3]\n",
            "tensor([1, 2, 3])\n",
            "tensor([1, 2, 3])\n"
          ]
        }
      ]
    },
    {
      "cell_type": "code",
      "source": [
        "s[0] = -1\n",
        "print(a)\n",
        "print(s)"
      ],
      "metadata": {
        "id": "uwP8DYB5L_j4",
        "colab": {
          "base_uri": "https://localhost:8080/"
        },
        "outputId": "a9157ff3-f0e4-4194-9a16-bc7494b33b8d"
      },
      "execution_count": null,
      "outputs": [
        {
          "output_type": "stream",
          "name": "stdout",
          "text": [
            "[1 2 3]\n",
            "tensor([-1,  2,  3])\n"
          ]
        }
      ]
    },
    {
      "cell_type": "code",
      "source": [
        "a[1] = -2\n",
        "print(a)\n",
        "print(s)"
      ],
      "metadata": {
        "id": "Leh7S3D5MA8s",
        "colab": {
          "base_uri": "https://localhost:8080/"
        },
        "outputId": "e471187d-49e6-4fa2-f7b7-35726162d327"
      },
      "execution_count": null,
      "outputs": [
        {
          "output_type": "stream",
          "name": "stdout",
          "text": [
            "[ 1 -2  3]\n",
            "tensor([-1,  2,  3])\n"
          ]
        }
      ]
    },
    {
      "cell_type": "code",
      "metadata": {
        "id": "pep3TEu8DT30",
        "colab": {
          "base_uri": "https://localhost:8080/"
        },
        "outputId": "71b4001f-b625-41a3-b8e8-31aac7b2df1a"
      },
      "source": [
        "# テンソルからndarrayを作る\n",
        "x = torch.ones(3,4)\n",
        "print(x)\n",
        "y = x.numpy()\n",
        "print(y)"
      ],
      "execution_count": null,
      "outputs": [
        {
          "output_type": "stream",
          "name": "stdout",
          "text": [
            "tensor([[1., 1., 1., 1.],\n",
            "        [1., 1., 1., 1.],\n",
            "        [1., 1., 1., 1.]])\n",
            "[[1. 1. 1. 1.]\n",
            " [1. 1. 1. 1.]\n",
            " [1. 1. 1. 1.]]\n"
          ]
        }
      ]
    },
    {
      "cell_type": "code",
      "source": [
        "# テンソルを変更するとどうなるか?\n",
        "x[0,0] = -1\n",
        "print(x)\n",
        "print(y)"
      ],
      "metadata": {
        "id": "1J_aN1AyMGlN",
        "colab": {
          "base_uri": "https://localhost:8080/"
        },
        "outputId": "1db51882-b826-4c73-8154-2c5b5e240f76"
      },
      "execution_count": null,
      "outputs": [
        {
          "output_type": "stream",
          "name": "stdout",
          "text": [
            "tensor([[-1.,  1.,  1.,  1.],\n",
            "        [ 1.,  1.,  1.,  1.],\n",
            "        [ 1.,  1.,  1.,  1.]])\n",
            "[[-1.  1.  1.  1.]\n",
            " [ 1.  1.  1.  1.]\n",
            " [ 1.  1.  1.  1.]]\n"
          ]
        }
      ]
    },
    {
      "cell_type": "markdown",
      "metadata": {
        "id": "yH3xfOOtBXc7"
      },
      "source": [
        "### テンソルの形状を得る"
      ]
    },
    {
      "cell_type": "code",
      "metadata": {
        "id": "lGjDbafgsnc4",
        "colab": {
          "base_uri": "https://localhost:8080/"
        },
        "outputId": "a1e8016c-bd4b-4d03-f1d2-3e2f84e4349e"
      },
      "source": [
        "x = torch.zeros(5, 3) \n",
        "print(x)\n",
        "\n",
        "print(x.shape)\n",
        "print(x.size(0))\n",
        "print(x.size(1))"
      ],
      "execution_count": null,
      "outputs": [
        {
          "output_type": "stream",
          "name": "stdout",
          "text": [
            "tensor([[0., 0., 0.],\n",
            "        [0., 0., 0.],\n",
            "        [0., 0., 0.],\n",
            "        [0., 0., 0.],\n",
            "        [0., 0., 0.]])\n",
            "torch.Size([5, 3])\n",
            "5\n",
            "3\n"
          ]
        }
      ]
    },
    {
      "cell_type": "markdown",
      "metadata": {
        "id": "EQmjzqTiBGSm"
      },
      "source": [
        "### 既存のテンソルから新たにテンソルを作る"
      ]
    },
    {
      "cell_type": "code",
      "metadata": {
        "id": "yRt1jFlTBT2d",
        "colab": {
          "base_uri": "https://localhost:8080/"
        },
        "outputId": "4ed7ef08-a98b-4e4d-e72c-30c414443b83"
      },
      "source": [
        "# 既存のテンソルから形状を引き継いで新たにテンソルを作る\n",
        "# 要素のデータ型は変更できる\n",
        "# （randnは正規乱数の意味）\n",
        "x2 = torch.randn_like(x, dtype=torch.float)\n",
        "print(x2)"
      ],
      "execution_count": null,
      "outputs": [
        {
          "output_type": "stream",
          "name": "stdout",
          "text": [
            "tensor([[ 0.6035,  0.8110, -0.0451],\n",
            "        [ 0.8797,  1.0482, -0.0445],\n",
            "        [-0.7229,  2.8663, -0.5655],\n",
            "        [ 0.1604, -0.0254,  1.0739],\n",
            "        [ 2.2628, -0.9175, -0.2251]])\n"
          ]
        }
      ]
    },
    {
      "cell_type": "markdown",
      "metadata": {
        "id": "q_UZIAV06aqr"
      },
      "source": [
        "### テンソルの要素のデータ型いろいろ"
      ]
    },
    {
      "cell_type": "code",
      "metadata": {
        "id": "mXv3W-9zCjn1",
        "colab": {
          "base_uri": "https://localhost:8080/"
        },
        "outputId": "bd78fdda-cebb-430e-f3c5-bd6abb4d0a9d"
      },
      "source": [
        "a = torch.tensor(1)\n",
        "print(a, a.dtype)"
      ],
      "execution_count": null,
      "outputs": [
        {
          "output_type": "stream",
          "name": "stdout",
          "text": [
            "tensor(1) torch.int64\n"
          ]
        }
      ]
    },
    {
      "cell_type": "code",
      "metadata": {
        "id": "JPHJ9pGa6Ra6",
        "colab": {
          "base_uri": "https://localhost:8080/"
        },
        "outputId": "743a75df-b3e3-4ba2-c4c8-ec6705950829"
      },
      "source": [
        "x = torch.tensor(2.0)\n",
        "print(x, x.dtype)\n",
        "y = torch.tensor(2.0, dtype=torch.float64)\n",
        "print(y, y.dtype)\n",
        "z = torch.tensor(2.0, dtype=torch.float16)\n",
        "print(z, z.dtype)\n"
      ],
      "execution_count": null,
      "outputs": [
        {
          "output_type": "stream",
          "name": "stdout",
          "text": [
            "tensor(2.) torch.float32\n",
            "tensor(2., dtype=torch.float64) torch.float64\n",
            "tensor(2., dtype=torch.float16) torch.float16\n"
          ]
        }
      ]
    },
    {
      "cell_type": "code",
      "source": [
        "s = x + y + z\n",
        "print(s.dtype)"
      ],
      "metadata": {
        "id": "tmEF-4aoMP4L",
        "colab": {
          "base_uri": "https://localhost:8080/"
        },
        "outputId": "1ad3ca3e-3aa4-4c3e-ebee-b70804bed269"
      },
      "execution_count": null,
      "outputs": [
        {
          "output_type": "stream",
          "name": "stdout",
          "text": [
            "torch.float64\n"
          ]
        }
      ]
    },
    {
      "cell_type": "code",
      "metadata": {
        "id": "7jIv5bx0Clps",
        "colab": {
          "base_uri": "https://localhost:8080/"
        },
        "outputId": "f146ebfd-e82e-455c-8011-6305ba909e63"
      },
      "source": [
        "b = torch.tensor(True)\n",
        "print(b, b.dtype)"
      ],
      "execution_count": null,
      "outputs": [
        {
          "output_type": "stream",
          "name": "stdout",
          "text": [
            "tensor(True) torch.bool\n"
          ]
        }
      ]
    },
    {
      "cell_type": "markdown",
      "metadata": {
        "id": "mDrafV5e74Ca"
      },
      "source": [
        "### 型の指定(1)"
      ]
    },
    {
      "cell_type": "code",
      "metadata": {
        "id": "XXFfYPSG6ZFO",
        "colab": {
          "base_uri": "https://localhost:8080/"
        },
        "outputId": "cb52192b-5a6d-41e7-b47d-e911a8089bbc"
      },
      "source": [
        "a = torch.tensor(1, dtype=torch.int32)\n",
        "print(a, a.dtype)\n",
        "x = torch.tensor(2.0, dtype=torch.float)\n",
        "print(x, x.dtype)\n",
        "z = torch.tensor(2.0, dtype=torch.double)\n",
        "print(z, z.dtype)"
      ],
      "execution_count": null,
      "outputs": [
        {
          "output_type": "stream",
          "name": "stdout",
          "text": [
            "tensor(1, dtype=torch.int32) torch.int32\n",
            "tensor(2.) torch.float32\n",
            "tensor(2., dtype=torch.float64) torch.float64\n"
          ]
        }
      ]
    },
    {
      "cell_type": "markdown",
      "metadata": {
        "id": "vQrL43C27wrG"
      },
      "source": [
        "### 型の指定(2)"
      ]
    },
    {
      "cell_type": "code",
      "metadata": {
        "id": "udgaTsg66syq",
        "colab": {
          "base_uri": "https://localhost:8080/"
        },
        "outputId": "1d95133c-1ff9-4dfe-ca18-bb620db3a7f7"
      },
      "source": [
        "a = torch.IntTensor([1, 2, 3])\n",
        "print(a, a.dtype)\n",
        "x = torch.FloatTensor(np.array([2.0, -4.0]))\n",
        "print(x, x.dtype)\n",
        "y = torch.DoubleTensor([2.0, -4.0])\n",
        "print(y, y.dtype)\n",
        "b = torch.BoolTensor([1, 0, 2, 0])\n",
        "print(b, b.dtype)"
      ],
      "execution_count": null,
      "outputs": [
        {
          "output_type": "stream",
          "name": "stdout",
          "text": [
            "tensor([1, 2, 3], dtype=torch.int32) torch.int32\n",
            "tensor([ 2., -4.]) torch.float32\n",
            "tensor([ 2., -4.], dtype=torch.float64) torch.float64\n",
            "tensor([ True, False,  True, False]) torch.bool\n"
          ]
        }
      ]
    },
    {
      "cell_type": "markdown",
      "metadata": {
        "id": "vxW9yw9X7jZZ"
      },
      "source": [
        "### 型の変更"
      ]
    },
    {
      "cell_type": "code",
      "metadata": {
        "id": "4fKa8r5g7C59",
        "colab": {
          "base_uri": "https://localhost:8080/"
        },
        "outputId": "e07359be-92d8-4bf6-e08d-5cca6e78d203"
      },
      "source": [
        "a = torch.tensor([1, 10])\n",
        "print(a, a.dtype)\n",
        "\n",
        "x = a.float()\n",
        "print(x, x.dtype)"
      ],
      "execution_count": null,
      "outputs": [
        {
          "output_type": "stream",
          "name": "stdout",
          "text": [
            "tensor([ 1, 10]) torch.int64\n",
            "tensor([ 1., 10.]) torch.float32\n"
          ]
        }
      ]
    },
    {
      "cell_type": "code",
      "source": [
        "y = a.type(torch.float64)\n",
        "print(y, y.dtype)"
      ],
      "metadata": {
        "id": "oc_HCb-7Mm-8",
        "colab": {
          "base_uri": "https://localhost:8080/"
        },
        "outputId": "fdce9f52-cf53-48e7-d206-7c632d06b0ea"
      },
      "execution_count": null,
      "outputs": [
        {
          "output_type": "stream",
          "name": "stdout",
          "text": [
            "tensor([ 1., 10.], dtype=torch.float64) torch.float64\n"
          ]
        }
      ]
    },
    {
      "cell_type": "code",
      "source": [
        "z = a.type_as(x)\n",
        "print(z, z.dtype)"
      ],
      "metadata": {
        "id": "hUV0xdRcMiji",
        "colab": {
          "base_uri": "https://localhost:8080/"
        },
        "outputId": "15dddbf9-4599-4d64-d832-b6c8e3297d8d"
      },
      "execution_count": null,
      "outputs": [
        {
          "output_type": "stream",
          "name": "stdout",
          "text": [
            "tensor([ 1., 10.]) torch.float32\n"
          ]
        }
      ]
    },
    {
      "cell_type": "markdown",
      "metadata": {
        "id": "S5YSHzUR8E_B"
      },
      "source": [
        "### スカラーとベクトル"
      ]
    },
    {
      "cell_type": "code",
      "metadata": {
        "id": "f0KRJeiu7mE0",
        "colab": {
          "base_uri": "https://localhost:8080/"
        },
        "outputId": "9101d298-c847-4d82-c8f5-3dfc819b1079"
      },
      "source": [
        "s = torch.tensor(1.0)\n",
        "print(s)\n",
        "print(s.dim())\n",
        "print(s.shape)"
      ],
      "execution_count": null,
      "outputs": [
        {
          "output_type": "stream",
          "name": "stdout",
          "text": [
            "tensor(1.)\n",
            "0\n",
            "torch.Size([])\n"
          ]
        }
      ]
    },
    {
      "cell_type": "code",
      "source": [
        "v = torch.tensor([1.0, 2.0, 3.0, 4.0])\n",
        "print(v)\n",
        "print(v.dim())\n",
        "print(v.shape)"
      ],
      "metadata": {
        "id": "99vZHSCTMtEp",
        "colab": {
          "base_uri": "https://localhost:8080/"
        },
        "outputId": "d88c5f28-a19c-4539-f326-c1ebe913f1a3"
      },
      "execution_count": null,
      "outputs": [
        {
          "output_type": "stream",
          "name": "stdout",
          "text": [
            "tensor([1., 2., 3., 4.])\n",
            "1\n",
            "torch.Size([4])\n"
          ]
        }
      ]
    },
    {
      "cell_type": "code",
      "source": [
        "v = torch.tensor([4.0])\n",
        "print(v)\n",
        "print(v.dim())\n",
        "print(v.shape)"
      ],
      "metadata": {
        "id": "thA12-uLMs0g",
        "colab": {
          "base_uri": "https://localhost:8080/"
        },
        "outputId": "2cc45778-f7a4-4227-849c-6b35e179ded1"
      },
      "execution_count": null,
      "outputs": [
        {
          "output_type": "stream",
          "name": "stdout",
          "text": [
            "tensor([4.])\n",
            "1\n",
            "torch.Size([1])\n"
          ]
        }
      ]
    },
    {
      "cell_type": "code",
      "metadata": {
        "id": "gBuSFAnqvq4i",
        "colab": {
          "base_uri": "https://localhost:8080/"
        },
        "outputId": "e8a1b0e2-8f6b-4ec6-f243-9c6c66743473"
      },
      "source": [
        "# 要素がひとつのテンソルから、その要素をスカラ値として取り出す\n",
        "x = torch.randn(1)\n",
        "print(x)\n",
        "print(x.item())"
      ],
      "execution_count": null,
      "outputs": [
        {
          "output_type": "stream",
          "name": "stdout",
          "text": [
            "tensor([2.3466])\n",
            "2.3466382026672363\n"
          ]
        }
      ]
    },
    {
      "cell_type": "markdown",
      "metadata": {
        "id": "ohAYO4Om8WmT"
      },
      "source": [
        "### 行列"
      ]
    },
    {
      "cell_type": "code",
      "metadata": {
        "id": "SrayRh_48EPA",
        "colab": {
          "base_uri": "https://localhost:8080/"
        },
        "outputId": "ea2530a4-ab5c-49ff-9b11-bce98695e8c7"
      },
      "source": [
        "m = torch.tensor([[1.0, 2.0], [3.0, 4.0]])\n",
        "print(m)\n",
        "print(m.dim())\n",
        "print(m.shape)\n",
        "print(m[1, 1])"
      ],
      "execution_count": null,
      "outputs": [
        {
          "output_type": "stream",
          "name": "stdout",
          "text": [
            "tensor([[1., 2.],\n",
            "        [3., 4.]])\n",
            "2\n",
            "torch.Size([2, 2])\n",
            "tensor(4.)\n"
          ]
        }
      ]
    },
    {
      "cell_type": "markdown",
      "metadata": {
        "id": "6XRgzduC8oID"
      },
      "source": [
        "### テンソル"
      ]
    },
    {
      "cell_type": "code",
      "metadata": {
        "id": "ZPERpt9z8YJ0",
        "colab": {
          "base_uri": "https://localhost:8080/"
        },
        "outputId": "4272e524-b820-4f77-a443-50de8c002945"
      },
      "source": [
        "t = torch.tensor([[[1.0, 2.0], [3.0, 4.0]], [[5.0, 6.0], [7.0, 8.0]]])\n",
        "print(t)\n",
        "print(t.dim())\n",
        "print(t.shape)\n",
        "print(t[1, 1, 1])"
      ],
      "execution_count": null,
      "outputs": [
        {
          "output_type": "stream",
          "name": "stdout",
          "text": [
            "tensor([[[1., 2.],\n",
            "         [3., 4.]],\n",
            "\n",
            "        [[5., 6.],\n",
            "         [7., 8.]]])\n",
            "3\n",
            "torch.Size([2, 2, 2])\n",
            "tensor(8.)\n"
          ]
        }
      ]
    },
    {
      "cell_type": "code",
      "metadata": {
        "id": "MW1dYvFR8qYF",
        "colab": {
          "base_uri": "https://localhost:8080/"
        },
        "outputId": "96a705d4-c50d-4979-d793-5e9ec143faf2"
      },
      "source": [
        "t = torch.tensor([[[[1.0, 1.0], [2.0, 2.0]], [[3.0, 3.0], [4.0, 4.0]]],\n",
        "                        [[[5.0, 5.0], [6.0, 6.0]], [[7.0, 7.0], [8.0, 8.0]]]])\n",
        "print(t)\n",
        "print(t.dim())\n",
        "print(t.shape)\n",
        "print(t[1, 1, 1, 1])"
      ],
      "execution_count": null,
      "outputs": [
        {
          "output_type": "stream",
          "name": "stdout",
          "text": [
            "tensor([[[[1., 1.],\n",
            "          [2., 2.]],\n",
            "\n",
            "         [[3., 3.],\n",
            "          [4., 4.]]],\n",
            "\n",
            "\n",
            "        [[[5., 5.],\n",
            "          [6., 6.]],\n",
            "\n",
            "         [[7., 7.],\n",
            "          [8., 8.]]]])\n",
            "4\n",
            "torch.Size([2, 2, 2, 2])\n",
            "tensor(8.)\n"
          ]
        }
      ]
    },
    {
      "cell_type": "markdown",
      "metadata": {
        "id": "PZQMWS__ohwA"
      },
      "source": [
        "## 2. テンソルのビュー "
      ]
    },
    {
      "cell_type": "markdown",
      "metadata": {
        "id": "Rjqhtv-n9mM4"
      },
      "source": [
        "### view()メソッド\n",
        "* viewとreshapeについては、下記リンク先を参照。\n",
        " * https://pytorch.org/docs/stable/tensor_view.html"
      ]
    },
    {
      "cell_type": "code",
      "metadata": {
        "id": "4VNbS-gekWPb",
        "colab": {
          "base_uri": "https://localhost:8080/"
        },
        "outputId": "2c45ffb8-58af-4e06-f91e-fd8f56b6be5a"
      },
      "source": [
        "v = torch.arange(0, 12)\n",
        "print(v)\n",
        "print(v.shape)"
      ],
      "execution_count": null,
      "outputs": [
        {
          "output_type": "stream",
          "name": "stdout",
          "text": [
            "tensor([ 0,  1,  2,  3,  4,  5,  6,  7,  8,  9, 10, 11])\n",
            "torch.Size([12])\n"
          ]
        }
      ]
    },
    {
      "cell_type": "code",
      "metadata": {
        "id": "D-R-5W6d9bwV",
        "colab": {
          "base_uri": "https://localhost:8080/"
        },
        "outputId": "a42d39b0-8e9f-42d2-8642-2b777ac642d5"
      },
      "source": [
        "m34 = v.view(3, 4)\n",
        "print(m34)\n",
        "print(m34.shape)"
      ],
      "execution_count": null,
      "outputs": [
        {
          "output_type": "stream",
          "name": "stdout",
          "text": [
            "tensor([[ 0,  1,  2,  3],\n",
            "        [ 4,  5,  6,  7],\n",
            "        [ 8,  9, 10, 11]])\n",
            "torch.Size([3, 4])\n"
          ]
        }
      ]
    },
    {
      "cell_type": "code",
      "source": [
        "v[0] = 10\n",
        "print(m34)"
      ],
      "metadata": {
        "id": "NuPP10tCOA4o",
        "colab": {
          "base_uri": "https://localhost:8080/"
        },
        "outputId": "6cf48f41-94af-45e4-87bc-3aacf8a49b74"
      },
      "execution_count": null,
      "outputs": [
        {
          "output_type": "stream",
          "name": "stdout",
          "text": [
            "tensor([[10,  1,  2,  3],\n",
            "        [ 4,  5,  6,  7],\n",
            "        [ 8,  9, 10, 11]])\n"
          ]
        }
      ]
    },
    {
      "cell_type": "code",
      "source": [
        "m43 = v.view(4, -1)\n",
        "print(m43)\n",
        "print(m43.shape)"
      ],
      "metadata": {
        "id": "4G05MbzDN2UJ",
        "colab": {
          "base_uri": "https://localhost:8080/"
        },
        "outputId": "26dbdd08-7648-4252-9d2a-42e0275d696d"
      },
      "execution_count": null,
      "outputs": [
        {
          "output_type": "stream",
          "name": "stdout",
          "text": [
            "tensor([[10,  1,  2],\n",
            "        [ 3,  4,  5],\n",
            "        [ 6,  7,  8],\n",
            "        [ 9, 10, 11]])\n",
            "torch.Size([4, 3])\n"
          ]
        }
      ]
    },
    {
      "cell_type": "markdown",
      "metadata": {
        "id": "JF4-o8Ow-vZK"
      },
      "source": [
        "### reshape()メソッド"
      ]
    },
    {
      "cell_type": "code",
      "metadata": {
        "id": "3IsUrajfkJRC",
        "colab": {
          "base_uri": "https://localhost:8080/"
        },
        "outputId": "dbd74ba2-b471-488e-fa1e-e902a00daf54"
      },
      "source": [
        "v = torch.arange(0, 12)\n",
        "print(v)"
      ],
      "execution_count": null,
      "outputs": [
        {
          "output_type": "stream",
          "name": "stdout",
          "text": [
            "tensor([ 0,  1,  2,  3,  4,  5,  6,  7,  8,  9, 10, 11])\n"
          ]
        }
      ]
    },
    {
      "cell_type": "code",
      "metadata": {
        "id": "gY9SucFBkHCU",
        "colab": {
          "base_uri": "https://localhost:8080/"
        },
        "outputId": "20d39094-87f2-49dd-e491-4c43aa045b77"
      },
      "source": [
        "m26 = v.view(2, 6)\n",
        "print(m26)\n",
        "print(m26.shape)"
      ],
      "execution_count": null,
      "outputs": [
        {
          "output_type": "stream",
          "name": "stdout",
          "text": [
            "tensor([[ 0,  1,  2,  3,  4,  5],\n",
            "        [ 6,  7,  8,  9, 10, 11]])\n",
            "torch.Size([2, 6])\n"
          ]
        }
      ]
    },
    {
      "cell_type": "code",
      "source": [
        "v[0] = 10\n",
        "print(m26)"
      ],
      "metadata": {
        "id": "9HOxC_01OKJf",
        "colab": {
          "base_uri": "https://localhost:8080/"
        },
        "outputId": "014588b8-907e-4fd7-d967-d54ea24859c0"
      },
      "execution_count": null,
      "outputs": [
        {
          "output_type": "stream",
          "name": "stdout",
          "text": [
            "tensor([[10,  1,  2,  3,  4,  5],\n",
            "        [ 6,  7,  8,  9, 10, 11]])\n"
          ]
        }
      ]
    },
    {
      "cell_type": "markdown",
      "metadata": {
        "id": "49mAdtBNkqGR"
      },
      "source": [
        "### contiguousなテンソルとそうでないテンソルの違い\n",
        "* 「contiguousである」とは、テンソルとしての要素の配置の順番が、メモリ上での要素の配置の順番と一致していることを言う。\n",
        "* 例えばtメソッドは、見かけ上で転置するだけなので、その結果得られるテンソルでの要素の配置の順番は、メモリ上の要素の配置の順番と一致しなくなる。\n",
        "* contiguous()メソッドを呼ぶことで、強制的にメモリ上の要素の配置の順番を、テンソルでのそれに一致させることができる。\n",
        " * ただし、contiguous()メソッドを多用すると実行時間が伸びる。"
      ]
    },
    {
      "cell_type": "code",
      "metadata": {
        "id": "Up7birrIkmWO",
        "colab": {
          "base_uri": "https://localhost:8080/"
        },
        "outputId": "5f035bee-c036-4f62-92d6-6bdc45d1ced1"
      },
      "source": [
        "print(m26.is_contiguous())"
      ],
      "execution_count": null,
      "outputs": [
        {
          "output_type": "stream",
          "name": "stdout",
          "text": [
            "True\n"
          ]
        }
      ]
    },
    {
      "cell_type": "code",
      "source": [
        "m62 = m26.t()\n",
        "print(m62)\n",
        "print(m62.is_contiguous())"
      ],
      "metadata": {
        "id": "96vsgq41ORrY",
        "colab": {
          "base_uri": "https://localhost:8080/"
        },
        "outputId": "2c114864-b7e3-48dc-cd50-acaad0d1f8fa"
      },
      "execution_count": null,
      "outputs": [
        {
          "output_type": "stream",
          "name": "stdout",
          "text": [
            "tensor([[10,  6],\n",
            "        [ 1,  7],\n",
            "        [ 2,  8],\n",
            "        [ 3,  9],\n",
            "        [ 4, 10],\n",
            "        [ 5, 11]])\n",
            "False\n"
          ]
        }
      ]
    },
    {
      "cell_type": "code",
      "source": [
        "m62_new = m62.contiguous()\n",
        "print(m62_new)\n",
        "print(m62_new.is_contiguous())"
      ],
      "metadata": {
        "id": "B1FsfebwOUXC",
        "colab": {
          "base_uri": "https://localhost:8080/"
        },
        "outputId": "4fbfdcd1-fd86-4000-8279-492dc5281d7f"
      },
      "execution_count": null,
      "outputs": [
        {
          "output_type": "stream",
          "name": "stdout",
          "text": [
            "tensor([[10,  6],\n",
            "        [ 1,  7],\n",
            "        [ 2,  8],\n",
            "        [ 3,  9],\n",
            "        [ 4, 10],\n",
            "        [ 5, 11]])\n",
            "True\n"
          ]
        }
      ]
    },
    {
      "cell_type": "code",
      "source": [
        "m26[0, 0] = 20\n",
        "print(m26)\n",
        "print(m62)\n",
        "print(m62_new)"
      ],
      "metadata": {
        "id": "D0oHp1FIOWym",
        "colab": {
          "base_uri": "https://localhost:8080/"
        },
        "outputId": "bc4188ce-915c-4214-a784-719f2c0021d9"
      },
      "execution_count": null,
      "outputs": [
        {
          "output_type": "stream",
          "name": "stdout",
          "text": [
            "tensor([[20,  1,  2,  3,  4,  5],\n",
            "        [ 6,  7,  8,  9, 10, 11]])\n",
            "tensor([[20,  6],\n",
            "        [ 1,  7],\n",
            "        [ 2,  8],\n",
            "        [ 3,  9],\n",
            "        [ 4, 10],\n",
            "        [ 5, 11]])\n",
            "tensor([[10,  6],\n",
            "        [ 1,  7],\n",
            "        [ 2,  8],\n",
            "        [ 3,  9],\n",
            "        [ 4, 10],\n",
            "        [ 5, 11]])\n"
          ]
        }
      ]
    },
    {
      "cell_type": "code",
      "metadata": {
        "id": "W1hBFq0PuXbq",
        "colab": {
          "base_uri": "https://localhost:8080/"
        },
        "outputId": "b5e85658-00f6-4a6c-9928-ea17341768a4"
      },
      "source": [
        "v = torch.arange(0, 12)\n",
        "m26 = v.view(2, 6)\n",
        "print(m26)\n",
        "m34 = m26.view(3, 4)\n",
        "print(m34)"
      ],
      "execution_count": null,
      "outputs": [
        {
          "output_type": "stream",
          "name": "stdout",
          "text": [
            "tensor([[ 0,  1,  2,  3,  4,  5],\n",
            "        [ 6,  7,  8,  9, 10, 11]])\n",
            "tensor([[ 0,  1,  2,  3],\n",
            "        [ 4,  5,  6,  7],\n",
            "        [ 8,  9, 10, 11]])\n"
          ]
        }
      ]
    },
    {
      "cell_type": "code",
      "metadata": {
        "id": "mElojr5UmzvS",
        "colab": {
          "base_uri": "https://localhost:8080/",
          "height": 360
        },
        "outputId": "722a10b5-cae4-4cd4-8d56-03576daf572a"
      },
      "source": [
        "v = torch.arange(0, 12)\n",
        "m26 = v.view(2, 6)\n",
        "print(m26)\n",
        "m62 = m26.t()\n",
        "print(m62)\n",
        "m34 = m62.view(3, 4) # これはエラーになる"
      ],
      "execution_count": null,
      "outputs": [
        {
          "output_type": "stream",
          "name": "stdout",
          "text": [
            "tensor([[ 0,  1,  2,  3,  4,  5],\n",
            "        [ 6,  7,  8,  9, 10, 11]])\n",
            "tensor([[ 0,  6],\n",
            "        [ 1,  7],\n",
            "        [ 2,  8],\n",
            "        [ 3,  9],\n",
            "        [ 4, 10],\n",
            "        [ 5, 11]])\n"
          ]
        },
        {
          "output_type": "error",
          "ename": "RuntimeError",
          "evalue": "ignored",
          "traceback": [
            "\u001b[0;31m---------------------------------------------------------------------------\u001b[0m",
            "\u001b[0;31mRuntimeError\u001b[0m                              Traceback (most recent call last)",
            "\u001b[0;32m<ipython-input-46-30c337432ff3>\u001b[0m in \u001b[0;36m<module>\u001b[0;34m\u001b[0m\n\u001b[1;32m      4\u001b[0m \u001b[0mm62\u001b[0m \u001b[0;34m=\u001b[0m \u001b[0mm26\u001b[0m\u001b[0;34m.\u001b[0m\u001b[0mt\u001b[0m\u001b[0;34m(\u001b[0m\u001b[0;34m)\u001b[0m\u001b[0;34m\u001b[0m\u001b[0;34m\u001b[0m\u001b[0m\n\u001b[1;32m      5\u001b[0m \u001b[0mprint\u001b[0m\u001b[0;34m(\u001b[0m\u001b[0mm62\u001b[0m\u001b[0;34m)\u001b[0m\u001b[0;34m\u001b[0m\u001b[0;34m\u001b[0m\u001b[0m\n\u001b[0;32m----> 6\u001b[0;31m \u001b[0mm34\u001b[0m \u001b[0;34m=\u001b[0m \u001b[0mm62\u001b[0m\u001b[0;34m.\u001b[0m\u001b[0mview\u001b[0m\u001b[0;34m(\u001b[0m\u001b[0;36m3\u001b[0m\u001b[0;34m,\u001b[0m \u001b[0;36m4\u001b[0m\u001b[0;34m)\u001b[0m \u001b[0;31m# これはエラーになる\u001b[0m\u001b[0;34m\u001b[0m\u001b[0;34m\u001b[0m\u001b[0m\n\u001b[0m",
            "\u001b[0;31mRuntimeError\u001b[0m: view size is not compatible with input tensor's size and stride (at least one dimension spans across two contiguous subspaces). Use .reshape(...) instead."
          ]
        }
      ]
    },
    {
      "cell_type": "code",
      "metadata": {
        "id": "ktDwmwFym__Q",
        "colab": {
          "base_uri": "https://localhost:8080/"
        },
        "outputId": "80a82a7c-d9a0-417f-ee21-ab09984338f5"
      },
      "source": [
        "v = torch.arange(0, 12)\n",
        "m26 = v.view(2, 6)\n",
        "print(m26)\n",
        "m62 = m26.t()\n",
        "print(m62)\n",
        "m34 = m62.reshape(3, 4) # reshapeではエラーにならない\n",
        "print(m34)"
      ],
      "execution_count": null,
      "outputs": [
        {
          "output_type": "stream",
          "name": "stdout",
          "text": [
            "tensor([[ 0,  1,  2,  3,  4,  5],\n",
            "        [ 6,  7,  8,  9, 10, 11]])\n",
            "tensor([[ 0,  6],\n",
            "        [ 1,  7],\n",
            "        [ 2,  8],\n",
            "        [ 3,  9],\n",
            "        [ 4, 10],\n",
            "        [ 5, 11]])\n",
            "tensor([[ 0,  6,  1,  7],\n",
            "        [ 2,  8,  3,  9],\n",
            "        [ 4, 10,  5, 11]])\n"
          ]
        }
      ]
    },
    {
      "cell_type": "code",
      "metadata": {
        "id": "AvQRiLG4m3Nq",
        "colab": {
          "base_uri": "https://localhost:8080/"
        },
        "outputId": "98c80817-7808-4d54-a4db-a2fc4edf8f06"
      },
      "source": [
        "v = torch.arange(0, 12)\n",
        "m26 = v.view(2, 6)\n",
        "print(m26)\n",
        "m62 = m26.t()\n",
        "print(m62)\n",
        "m62_new = m62.contiguous() # contiguousにしてからだと・・・\n",
        "print(m62_new)\n",
        "m34 = m62_new.view(3, 4) # エラーにならない\n",
        "print(m34)\n",
        "# 何が起こっているかはすぐ下で調べる。"
      ],
      "execution_count": null,
      "outputs": [
        {
          "output_type": "stream",
          "name": "stdout",
          "text": [
            "tensor([[ 0,  1,  2,  3,  4,  5],\n",
            "        [ 6,  7,  8,  9, 10, 11]])\n",
            "tensor([[ 0,  6],\n",
            "        [ 1,  7],\n",
            "        [ 2,  8],\n",
            "        [ 3,  9],\n",
            "        [ 4, 10],\n",
            "        [ 5, 11]])\n",
            "tensor([[ 0,  6],\n",
            "        [ 1,  7],\n",
            "        [ 2,  8],\n",
            "        [ 3,  9],\n",
            "        [ 4, 10],\n",
            "        [ 5, 11]])\n",
            "tensor([[ 0,  6,  1,  7],\n",
            "        [ 2,  8,  3,  9],\n",
            "        [ 4, 10,  5, 11]])\n"
          ]
        }
      ]
    },
    {
      "cell_type": "markdown",
      "metadata": {
        "id": "s8QXyEMqd3qV"
      },
      "source": [
        "### テンソルとその要素のメモリ上での配置\n",
        "* 下のリンク先が詳しい（今は無料で読めなくなっている・・・）。\n",
        " * https://livebook.manning.com/book/deep-learning-with-pytorch/chapter-3/142"
      ]
    },
    {
      "cell_type": "code",
      "metadata": {
        "id": "Kz8s7Hv_c8O5",
        "colab": {
          "base_uri": "https://localhost:8080/"
        },
        "outputId": "1e3f61c3-4d19-4ddc-c6eb-a4921b1d311b"
      },
      "source": [
        "m = torch.tensor([[4.0, 1.0], [5.0, 3.0], [2.0, 1.0]])\n",
        "print(m)\n",
        "print(m.storage())"
      ],
      "execution_count": null,
      "outputs": [
        {
          "output_type": "stream",
          "name": "stdout",
          "text": [
            "tensor([[4., 1.],\n",
            "        [5., 3.],\n",
            "        [2., 1.]])\n",
            " 4.0\n",
            " 1.0\n",
            " 5.0\n",
            " 3.0\n",
            " 2.0\n",
            " 1.0\n",
            "[torch.storage._TypedStorage(dtype=torch.float32, device=cpu) of size 6]\n"
          ]
        }
      ]
    },
    {
      "cell_type": "code",
      "metadata": {
        "id": "Pl9H1MKLdDmc",
        "colab": {
          "base_uri": "https://localhost:8080/"
        },
        "outputId": "9c4db39e-78c7-423a-b51f-0982a56e22c7"
      },
      "source": [
        "# 転置をしてもstorage()メソッドは同じ内容を返す\n",
        "m = torch.tensor([[4.0, 1.0], [5.0, 3.0], [2.0, 1.0]])\n",
        "m = m.t()\n",
        "print(m)\n",
        "print(m.storage())"
      ],
      "execution_count": null,
      "outputs": [
        {
          "output_type": "stream",
          "name": "stdout",
          "text": [
            "tensor([[4., 5., 2.],\n",
            "        [1., 3., 1.]])\n",
            " 4.0\n",
            " 1.0\n",
            " 5.0\n",
            " 3.0\n",
            " 2.0\n",
            " 1.0\n",
            "[torch.storage._TypedStorage(dtype=torch.float32, device=cpu) of size 6]\n"
          ]
        }
      ]
    },
    {
      "cell_type": "code",
      "source": [
        "# なぜreshapeではエラーが出なかったか\n",
        "v = torch.arange(0, 12)\n",
        "m26 = v.view(2, 6)\n",
        "m62 = m26.t()\n",
        "print(m62)\n",
        "print(m62.storage())\n",
        "m34 = m62.reshape(3, 4) # reshapeではエラーにならない\n",
        "print(m34)\n",
        "print(m34.storage())"
      ],
      "metadata": {
        "id": "v8_AIHqxSL32",
        "colab": {
          "base_uri": "https://localhost:8080/"
        },
        "outputId": "163433c1-895b-4a73-ad6e-8f0a046b8492"
      },
      "execution_count": null,
      "outputs": [
        {
          "output_type": "stream",
          "name": "stdout",
          "text": [
            "tensor([[ 0,  6],\n",
            "        [ 1,  7],\n",
            "        [ 2,  8],\n",
            "        [ 3,  9],\n",
            "        [ 4, 10],\n",
            "        [ 5, 11]])\n",
            " 0\n",
            " 1\n",
            " 2\n",
            " 3\n",
            " 4\n",
            " 5\n",
            " 6\n",
            " 7\n",
            " 8\n",
            " 9\n",
            " 10\n",
            " 11\n",
            "[torch.storage._TypedStorage(dtype=torch.int64, device=cpu) of size 12]\n",
            "tensor([[ 0,  6,  1,  7],\n",
            "        [ 2,  8,  3,  9],\n",
            "        [ 4, 10,  5, 11]])\n",
            " 0\n",
            " 6\n",
            " 1\n",
            " 7\n",
            " 2\n",
            " 8\n",
            " 3\n",
            " 9\n",
            " 4\n",
            " 10\n",
            " 5\n",
            " 11\n",
            "[torch.storage._TypedStorage(dtype=torch.int64, device=cpu) of size 12]\n"
          ]
        }
      ]
    },
    {
      "cell_type": "markdown",
      "metadata": {
        "id": "kOmNOlTYouJc"
      },
      "source": [
        "## 3. テンソルの操作"
      ]
    },
    {
      "cell_type": "markdown",
      "metadata": {
        "id": "b7x8e_cbtFQ8"
      },
      "source": [
        "### 演算"
      ]
    },
    {
      "cell_type": "code",
      "metadata": {
        "id": "1pUfEhrdtDBq",
        "colab": {
          "base_uri": "https://localhost:8080/"
        },
        "outputId": "1c74248c-839d-40b8-f525-fe4360614e1b"
      },
      "source": [
        "x = torch.rand(5, 3)\n",
        "y = torch.rand(5, 3)\n",
        "print(x)\n",
        "print(y)\n",
        "\n",
        "# 要素ごとの演算\n",
        "print(x + y)\n",
        "print(x * y)"
      ],
      "execution_count": null,
      "outputs": [
        {
          "output_type": "stream",
          "name": "stdout",
          "text": [
            "tensor([[0.7932, 0.2783, 0.4820],\n",
            "        [0.8198, 0.9971, 0.6984],\n",
            "        [0.5675, 0.8352, 0.2056],\n",
            "        [0.5932, 0.1123, 0.1535],\n",
            "        [0.2417, 0.7262, 0.7011]])\n",
            "tensor([[0.2038, 0.6511, 0.7745],\n",
            "        [0.4369, 0.5191, 0.6159],\n",
            "        [0.8102, 0.9801, 0.1147],\n",
            "        [0.3168, 0.6965, 0.9143],\n",
            "        [0.9351, 0.9412, 0.5995]])\n",
            "tensor([[0.9970, 0.9293, 1.2564],\n",
            "        [1.2567, 1.5162, 1.3143],\n",
            "        [1.3777, 1.8153, 0.3203],\n",
            "        [0.9099, 0.8089, 1.0677],\n",
            "        [1.1768, 1.6674, 1.3006]])\n",
            "tensor([[0.1617, 0.1812, 0.3733],\n",
            "        [0.3582, 0.5176, 0.4301],\n",
            "        [0.4598, 0.8186, 0.0236],\n",
            "        [0.1879, 0.0783, 0.1403],\n",
            "        [0.2260, 0.6835, 0.4203]])\n"
          ]
        }
      ]
    },
    {
      "cell_type": "markdown",
      "metadata": {
        "id": "aMNweIJMtbl0"
      },
      "source": [
        "### Indexing\n",
        "* NumPyと同じ。"
      ]
    },
    {
      "cell_type": "code",
      "metadata": {
        "id": "1Zhf3VU7taY_",
        "colab": {
          "base_uri": "https://localhost:8080/"
        },
        "outputId": "e11c86b4-d653-440d-c3b8-0c4739da6a6a"
      },
      "source": [
        "x = torch.rand(5, 3)\n",
        "print(x)\n",
        "print(x[:,1])"
      ],
      "execution_count": null,
      "outputs": [
        {
          "output_type": "stream",
          "name": "stdout",
          "text": [
            "tensor([[0.0652, 0.5460, 0.1872],\n",
            "        [0.0340, 0.9442, 0.8802],\n",
            "        [0.0012, 0.5936, 0.4158],\n",
            "        [0.4177, 0.2711, 0.6923],\n",
            "        [0.2038, 0.6833, 0.7529]])\n",
            "tensor([0.5460, 0.9442, 0.5936, 0.2711, 0.6833])\n"
          ]
        }
      ]
    },
    {
      "cell_type": "markdown",
      "metadata": {
        "id": "rZzusZ3FwMir"
      },
      "source": [
        "### GPUへテンソルを持っていく\n",
        "* ランタイムのタイプをGPUへ変更してから下のセルを実行する。"
      ]
    },
    {
      "cell_type": "code",
      "metadata": {
        "id": "moakf3Hp7eId",
        "colab": {
          "base_uri": "https://localhost:8080/"
        },
        "outputId": "de9615d0-1627-4981-a09f-8015b9152664"
      },
      "source": [
        "# GPUが使える環境かどうかの確認\n",
        "torch.cuda.is_available()"
      ],
      "execution_count": null,
      "outputs": [
        {
          "output_type": "execute_result",
          "data": {
            "text/plain": [
              "True"
            ]
          },
          "metadata": {},
          "execution_count": 54
        }
      ]
    },
    {
      "cell_type": "code",
      "metadata": {
        "id": "8_1SmjbK7f9g",
        "colab": {
          "base_uri": "https://localhost:8080/"
        },
        "outputId": "ed864279-e595-4668-dc77-a5012c8c1d8d"
      },
      "source": [
        "# GPUの取得\n",
        "device = torch.device(\"cuda\")\n",
        "print(device)"
      ],
      "execution_count": null,
      "outputs": [
        {
          "output_type": "stream",
          "name": "stdout",
          "text": [
            "cuda\n"
          ]
        }
      ]
    },
    {
      "cell_type": "code",
      "source": [
        "# GPU上にテンソルを作る\n",
        "x = torch.rand(5, 3, device=device)"
      ],
      "metadata": {
        "id": "QUirBLnTgzUk"
      },
      "execution_count": null,
      "outputs": []
    },
    {
      "cell_type": "code",
      "source": [
        "print(x)"
      ],
      "metadata": {
        "id": "5FdE5zgphFR1",
        "colab": {
          "base_uri": "https://localhost:8080/"
        },
        "outputId": "bea1b378-eed2-4c55-f74c-d32d88962984"
      },
      "execution_count": null,
      "outputs": [
        {
          "output_type": "stream",
          "name": "stdout",
          "text": [
            "tensor([[0.3990, 0.5167, 0.0249],\n",
            "        [0.9401, 0.9459, 0.7967],\n",
            "        [0.4150, 0.8203, 0.2290],\n",
            "        [0.9096, 0.1183, 0.0752],\n",
            "        [0.4092, 0.9601, 0.2093]], device='cuda:0')\n"
          ]
        }
      ]
    },
    {
      "cell_type": "code",
      "source": [
        "# CPU上で作ってからGPUへ持っていく\n",
        "y = torch.ones_like(x)\n",
        "y = y.to(device)"
      ],
      "metadata": {
        "id": "bHUE0zpVg6Pq"
      },
      "execution_count": null,
      "outputs": []
    },
    {
      "cell_type": "code",
      "source": [
        "print(y)"
      ],
      "metadata": {
        "id": "iogzRgvChH2v",
        "colab": {
          "base_uri": "https://localhost:8080/"
        },
        "outputId": "096d09e6-25bb-4d7d-ce9c-ec263ee1d079"
      },
      "execution_count": null,
      "outputs": [
        {
          "output_type": "stream",
          "name": "stdout",
          "text": [
            "tensor([[1., 1., 1.],\n",
            "        [1., 1., 1.],\n",
            "        [1., 1., 1.],\n",
            "        [1., 1., 1.],\n",
            "        [1., 1., 1.]], device='cuda:0')\n"
          ]
        }
      ]
    },
    {
      "cell_type": "code",
      "source": [
        "z = x + y\n",
        "print(z)"
      ],
      "metadata": {
        "id": "c15hFmdvhMDk",
        "colab": {
          "base_uri": "https://localhost:8080/"
        },
        "outputId": "a3cef75a-724d-45a3-db0b-48b1e23e8dd4"
      },
      "execution_count": null,
      "outputs": [
        {
          "output_type": "stream",
          "name": "stdout",
          "text": [
            "tensor([[1.3990, 1.5167, 1.0249],\n",
            "        [1.9401, 1.9459, 1.7967],\n",
            "        [1.4150, 1.8203, 1.2290],\n",
            "        [1.9096, 1.1183, 1.0752],\n",
            "        [1.4092, 1.9601, 1.2093]], device='cuda:0')\n"
          ]
        }
      ]
    },
    {
      "cell_type": "code",
      "source": [
        "# CPUに戻す\n",
        "w = z.cpu()\n",
        "print(w)\n",
        "print(w.dtype)"
      ],
      "metadata": {
        "id": "YZLFFVa1hQcI",
        "colab": {
          "base_uri": "https://localhost:8080/"
        },
        "outputId": "da1cc1e1-52e8-4b47-f16c-adf4faeb8484"
      },
      "execution_count": null,
      "outputs": [
        {
          "output_type": "stream",
          "name": "stdout",
          "text": [
            "tensor([[1.3990, 1.5167, 1.0249],\n",
            "        [1.9401, 1.9459, 1.7967],\n",
            "        [1.4150, 1.8203, 1.2290],\n",
            "        [1.9096, 1.1183, 1.0752],\n",
            "        [1.4092, 1.9601, 1.2093]])\n",
            "torch.float32\n"
          ]
        }
      ]
    },
    {
      "cell_type": "code",
      "metadata": {
        "id": "UG9eEPK2wH-v",
        "colab": {
          "base_uri": "https://localhost:8080/"
        },
        "outputId": "48dd8dfd-4db6-4baa-ec54-d4b1560431fe"
      },
      "source": [
        "# さらにNumPyのndarrayに変換する\n",
        "w = w.numpy()\n",
        "print(w)\n",
        "print(w.dtype) # float32になることに注意"
      ],
      "execution_count": null,
      "outputs": [
        {
          "output_type": "stream",
          "name": "stdout",
          "text": [
            "[[1.3990464 1.5166792 1.0249304]\n",
            " [1.9400795 1.9458542 1.7967312]\n",
            " [1.4150141 1.820257  1.2290434]\n",
            " [1.9095875 1.1183367 1.0752224]\n",
            " [1.4092209 1.9600675 1.2093016]]\n",
            "float32\n"
          ]
        }
      ]
    },
    {
      "cell_type": "code",
      "source": [
        "x = torch.rand(5, 3)\n",
        "y = torch.rand(5, 3).to(device)\n",
        "z = x + y # エラーになる"
      ],
      "metadata": {
        "id": "DYOiqcXIQcvP",
        "colab": {
          "base_uri": "https://localhost:8080/",
          "height": 221
        },
        "outputId": "a15c9765-a0ad-4110-e1bf-a0f728293d50"
      },
      "execution_count": null,
      "outputs": [
        {
          "output_type": "error",
          "ename": "RuntimeError",
          "evalue": "ignored",
          "traceback": [
            "\u001b[0;31m---------------------------------------------------------------------------\u001b[0m",
            "\u001b[0;31mRuntimeError\u001b[0m                              Traceback (most recent call last)",
            "\u001b[0;32m<ipython-input-63-4e24fbc22c0d>\u001b[0m in \u001b[0;36m<module>\u001b[0;34m\u001b[0m\n\u001b[1;32m      1\u001b[0m \u001b[0mx\u001b[0m \u001b[0;34m=\u001b[0m \u001b[0mtorch\u001b[0m\u001b[0;34m.\u001b[0m\u001b[0mrand\u001b[0m\u001b[0;34m(\u001b[0m\u001b[0;36m5\u001b[0m\u001b[0;34m,\u001b[0m \u001b[0;36m3\u001b[0m\u001b[0;34m)\u001b[0m\u001b[0;34m\u001b[0m\u001b[0;34m\u001b[0m\u001b[0m\n\u001b[1;32m      2\u001b[0m \u001b[0my\u001b[0m \u001b[0;34m=\u001b[0m \u001b[0mtorch\u001b[0m\u001b[0;34m.\u001b[0m\u001b[0mrand\u001b[0m\u001b[0;34m(\u001b[0m\u001b[0;36m5\u001b[0m\u001b[0;34m,\u001b[0m \u001b[0;36m3\u001b[0m\u001b[0;34m)\u001b[0m\u001b[0;34m.\u001b[0m\u001b[0mto\u001b[0m\u001b[0;34m(\u001b[0m\u001b[0mdevice\u001b[0m\u001b[0;34m)\u001b[0m\u001b[0;34m\u001b[0m\u001b[0;34m\u001b[0m\u001b[0m\n\u001b[0;32m----> 3\u001b[0;31m \u001b[0mz\u001b[0m \u001b[0;34m=\u001b[0m \u001b[0mx\u001b[0m \u001b[0;34m+\u001b[0m \u001b[0my\u001b[0m \u001b[0;31m# エラーになる\u001b[0m\u001b[0;34m\u001b[0m\u001b[0;34m\u001b[0m\u001b[0m\n\u001b[0m",
            "\u001b[0;31mRuntimeError\u001b[0m: Expected all tensors to be on the same device, but found at least two devices, cuda:0 and cpu!"
          ]
        }
      ]
    },
    {
      "cell_type": "markdown",
      "metadata": {
        "id": "A-m9JrrUAbA4"
      },
      "source": [
        "## 自動微分"
      ]
    },
    {
      "cell_type": "markdown",
      "metadata": {
        "id": "aE00Ln1DA8fL"
      },
      "source": [
        "### それについて微分をする変数を作る\n",
        "* requires_gradをTrueに設定してテンソルを作る"
      ]
    },
    {
      "cell_type": "code",
      "metadata": {
        "id": "HfTNyEQIwzgX",
        "colab": {
          "base_uri": "https://localhost:8080/"
        },
        "outputId": "b32692ad-983f-4076-c399-bf3d449e5f09"
      },
      "source": [
        "x = torch.ones(2, 2, requires_grad=True)\n",
        "print(x)\n",
        "print(x.requires_grad)"
      ],
      "execution_count": null,
      "outputs": [
        {
          "output_type": "stream",
          "name": "stdout",
          "text": [
            "tensor([[1., 1.],\n",
            "        [1., 1.]], requires_grad=True)\n",
            "True\n"
          ]
        }
      ]
    },
    {
      "cell_type": "markdown",
      "metadata": {
        "id": "4gHPbxKr-G5E"
      },
      "source": [
        "* テンソルを作った後でrequires_gradをTrueにすることもできる。"
      ]
    },
    {
      "cell_type": "code",
      "metadata": {
        "id": "2PPGEN5V-OpM",
        "colab": {
          "base_uri": "https://localhost:8080/"
        },
        "outputId": "28e3d684-3fef-49d4-904c-c40883af862b"
      },
      "source": [
        "a = torch.randn(2, 2)\n",
        "print(a)\n",
        "print(a.requires_grad)\n",
        "a.requires_grad = True\n",
        "print(a.requires_grad)"
      ],
      "execution_count": null,
      "outputs": [
        {
          "output_type": "stream",
          "name": "stdout",
          "text": [
            "tensor([[ 0.5693,  0.1782],\n",
            "        [ 1.3549, -0.0112]])\n",
            "False\n",
            "True\n"
          ]
        }
      ]
    },
    {
      "cell_type": "markdown",
      "source": [
        "* テンソルを作った後でrequires_gradをTrueにする別の方法。"
      ],
      "metadata": {
        "id": "qE4JP23BhoQy"
      }
    },
    {
      "cell_type": "code",
      "metadata": {
        "id": "ZLdChREo90mO",
        "colab": {
          "base_uri": "https://localhost:8080/"
        },
        "outputId": "b70e612f-5b6d-4825-9fb3-adabe59232de"
      },
      "source": [
        "a = torch.randn(2, 2)\n",
        "print(a)\n",
        "print(a.requires_grad)\n",
        "a.requires_grad_(True)\n",
        "print(a.requires_grad)"
      ],
      "execution_count": null,
      "outputs": [
        {
          "output_type": "stream",
          "name": "stdout",
          "text": [
            "tensor([[ 0.5928,  0.8067],\n",
            "        [ 0.3174, -0.3674]])\n",
            "False\n",
            "True\n"
          ]
        }
      ]
    },
    {
      "cell_type": "markdown",
      "metadata": {
        "id": "kB_aYJRixpjj"
      },
      "source": [
        "### 計算グラフ\n",
        "* 微分できる変数を含む計算を行うと、計算グラフが作られる。"
      ]
    },
    {
      "cell_type": "code",
      "metadata": {
        "id": "g4Oo1I0Tw8j4",
        "colab": {
          "base_uri": "https://localhost:8080/"
        },
        "outputId": "487f732c-31f2-41be-ade9-97e027e4db50"
      },
      "source": [
        "x = torch.ones(2, 2, requires_grad=True)\n",
        "print(x)\n",
        "y = x + 2\n",
        "print(y)"
      ],
      "execution_count": null,
      "outputs": [
        {
          "output_type": "stream",
          "name": "stdout",
          "text": [
            "tensor([[1., 1.],\n",
            "        [1., 1.]], requires_grad=True)\n",
            "tensor([[3., 3.],\n",
            "        [3., 3.]], grad_fn=<AddBackward0>)\n"
          ]
        }
      ]
    },
    {
      "cell_type": "code",
      "metadata": {
        "id": "sCL6pdONxKw1",
        "colab": {
          "base_uri": "https://localhost:8080/"
        },
        "outputId": "6556b37f-90a0-472c-f770-3905b34e0740"
      },
      "source": [
        "x = torch.ones(2, 2, device=device, requires_grad=True)\n",
        "print(x)\n",
        "y = x * x * 4\n",
        "out = y.mean()\n",
        "print(out)"
      ],
      "execution_count": null,
      "outputs": [
        {
          "output_type": "stream",
          "name": "stdout",
          "text": [
            "tensor([[1., 1.],\n",
            "        [1., 1.]], device='cuda:0', requires_grad=True)\n",
            "tensor(4., device='cuda:0', grad_fn=<MeanBackward0>)\n"
          ]
        }
      ]
    },
    {
      "cell_type": "markdown",
      "metadata": {
        "id": "U50NxpxpxzB5"
      },
      "source": [
        "### Backpropagationの実行"
      ]
    },
    {
      "cell_type": "code",
      "metadata": {
        "id": "vLdQlh6mxxYH",
        "colab": {
          "base_uri": "https://localhost:8080/"
        },
        "outputId": "b0128d64-8f12-4c66-b3ac-39c8b5f75721"
      },
      "source": [
        "x = torch.ones(2, 2, device=device, requires_grad=True)\n",
        "print(x)\n",
        "y = x * x * 4\n",
        "print(y)\n",
        "out = y.mean()\n",
        "print(out)\n",
        "out.backward()\n",
        "print(x.grad) # 微分係数を表示"
      ],
      "execution_count": null,
      "outputs": [
        {
          "output_type": "stream",
          "name": "stdout",
          "text": [
            "tensor([[1., 1.],\n",
            "        [1., 1.]], device='cuda:0', requires_grad=True)\n",
            "tensor([[4., 4.],\n",
            "        [4., 4.]], device='cuda:0', grad_fn=<MulBackward0>)\n",
            "tensor(4., device='cuda:0', grad_fn=<MeanBackward0>)\n",
            "tensor([[2., 2.],\n",
            "        [2., 2.]], device='cuda:0')\n"
          ]
        }
      ]
    },
    {
      "cell_type": "markdown",
      "metadata": {
        "id": "gYIC6bs8Czm-"
      },
      "source": [
        "* 注意：一度 backward() を実行すると、計算グラフは破棄される。\n",
        " * 続けて backward() を実行することはできない。"
      ]
    },
    {
      "cell_type": "markdown",
      "metadata": {
        "id": "VU2vuVxvy-Kq"
      },
      "source": [
        "### 計算グラフを作らせない"
      ]
    },
    {
      "cell_type": "markdown",
      "source": [
        "* 以下のように、計算するととにかく計算グラフが作られる。"
      ],
      "metadata": {
        "id": "LT3rWrcYiRdu"
      }
    },
    {
      "cell_type": "code",
      "metadata": {
        "id": "PFZbFjOQy8U-",
        "colab": {
          "base_uri": "https://localhost:8080/"
        },
        "outputId": "78758608-0ed6-4416-d1d8-f60e99743b7b"
      },
      "source": [
        "x = torch.tensor(3.0, requires_grad=True)\n",
        "y = x ** 2\n",
        "print(y.requires_grad)\n",
        "y.backward()\n",
        "print(x.grad)"
      ],
      "execution_count": null,
      "outputs": [
        {
          "output_type": "stream",
          "name": "stdout",
          "text": [
            "True\n",
            "tensor(6.)\n"
          ]
        }
      ]
    },
    {
      "cell_type": "markdown",
      "source": [
        "* `with torch.no_grad():`の範囲内の計算については、計算グラフは作られない。"
      ],
      "metadata": {
        "id": "ZttaKVPpiUiK"
      }
    },
    {
      "cell_type": "code",
      "metadata": {
        "id": "sT-mhBMfAXqq",
        "colab": {
          "base_uri": "https://localhost:8080/"
        },
        "outputId": "767ce0f9-52ce-44d1-9fc0-4aa700260729"
      },
      "source": [
        "x = torch.tensor(3.0, requires_grad=True)\n",
        "y = x ** 2\n",
        "with torch.no_grad():\n",
        "  z = x ** 2\n",
        "print(y.requires_grad)\n",
        "print(z.requires_grad)"
      ],
      "execution_count": null,
      "outputs": [
        {
          "output_type": "stream",
          "name": "stdout",
          "text": [
            "True\n",
            "False\n"
          ]
        }
      ]
    },
    {
      "cell_type": "code",
      "source": [
        "z.backward() # エラーになる"
      ],
      "metadata": {
        "id": "H2XimiKEQ0rz",
        "colab": {
          "base_uri": "https://localhost:8080/",
          "height": 367
        },
        "outputId": "9751b544-8ec4-47d5-8087-6102ab42ea52"
      },
      "execution_count": null,
      "outputs": [
        {
          "output_type": "error",
          "ename": "RuntimeError",
          "evalue": "ignored",
          "traceback": [
            "\u001b[0;31m---------------------------------------------------------------------------\u001b[0m",
            "\u001b[0;31mRuntimeError\u001b[0m                              Traceback (most recent call last)",
            "\u001b[0;32m<ipython-input-72-302d5f025e17>\u001b[0m in \u001b[0;36m<module>\u001b[0;34m\u001b[0m\n\u001b[0;32m----> 1\u001b[0;31m \u001b[0mz\u001b[0m\u001b[0;34m.\u001b[0m\u001b[0mbackward\u001b[0m\u001b[0;34m(\u001b[0m\u001b[0;34m)\u001b[0m \u001b[0;31m# エラーになる\u001b[0m\u001b[0;34m\u001b[0m\u001b[0;34m\u001b[0m\u001b[0m\n\u001b[0m",
            "\u001b[0;32m/usr/local/lib/python3.7/dist-packages/torch/_tensor.py\u001b[0m in \u001b[0;36mbackward\u001b[0;34m(self, gradient, retain_graph, create_graph, inputs)\u001b[0m\n\u001b[1;32m    394\u001b[0m                 \u001b[0mcreate_graph\u001b[0m\u001b[0;34m=\u001b[0m\u001b[0mcreate_graph\u001b[0m\u001b[0;34m,\u001b[0m\u001b[0;34m\u001b[0m\u001b[0;34m\u001b[0m\u001b[0m\n\u001b[1;32m    395\u001b[0m                 inputs=inputs)\n\u001b[0;32m--> 396\u001b[0;31m         \u001b[0mtorch\u001b[0m\u001b[0;34m.\u001b[0m\u001b[0mautograd\u001b[0m\u001b[0;34m.\u001b[0m\u001b[0mbackward\u001b[0m\u001b[0;34m(\u001b[0m\u001b[0mself\u001b[0m\u001b[0;34m,\u001b[0m \u001b[0mgradient\u001b[0m\u001b[0;34m,\u001b[0m \u001b[0mretain_graph\u001b[0m\u001b[0;34m,\u001b[0m \u001b[0mcreate_graph\u001b[0m\u001b[0;34m,\u001b[0m \u001b[0minputs\u001b[0m\u001b[0;34m=\u001b[0m\u001b[0minputs\u001b[0m\u001b[0;34m)\u001b[0m\u001b[0;34m\u001b[0m\u001b[0;34m\u001b[0m\u001b[0m\n\u001b[0m\u001b[1;32m    397\u001b[0m \u001b[0;34m\u001b[0m\u001b[0m\n\u001b[1;32m    398\u001b[0m     \u001b[0;32mdef\u001b[0m \u001b[0mregister_hook\u001b[0m\u001b[0;34m(\u001b[0m\u001b[0mself\u001b[0m\u001b[0;34m,\u001b[0m \u001b[0mhook\u001b[0m\u001b[0;34m)\u001b[0m\u001b[0;34m:\u001b[0m\u001b[0;34m\u001b[0m\u001b[0;34m\u001b[0m\u001b[0m\n",
            "\u001b[0;32m/usr/local/lib/python3.7/dist-packages/torch/autograd/__init__.py\u001b[0m in \u001b[0;36mbackward\u001b[0;34m(tensors, grad_tensors, retain_graph, create_graph, grad_variables, inputs)\u001b[0m\n\u001b[1;32m    173\u001b[0m     Variable._execution_engine.run_backward(  # Calls into the C++ engine to run the backward pass\n\u001b[1;32m    174\u001b[0m         \u001b[0mtensors\u001b[0m\u001b[0;34m,\u001b[0m \u001b[0mgrad_tensors_\u001b[0m\u001b[0;34m,\u001b[0m \u001b[0mretain_graph\u001b[0m\u001b[0;34m,\u001b[0m \u001b[0mcreate_graph\u001b[0m\u001b[0;34m,\u001b[0m \u001b[0minputs\u001b[0m\u001b[0;34m,\u001b[0m\u001b[0;34m\u001b[0m\u001b[0;34m\u001b[0m\u001b[0m\n\u001b[0;32m--> 175\u001b[0;31m         allow_unreachable=True, accumulate_grad=True)  # Calls into the C++ engine to run the backward pass\n\u001b[0m\u001b[1;32m    176\u001b[0m \u001b[0;34m\u001b[0m\u001b[0m\n\u001b[1;32m    177\u001b[0m def grad(\n",
            "\u001b[0;31mRuntimeError\u001b[0m: element 0 of tensors does not require grad and does not have a grad_fn"
          ]
        }
      ]
    },
    {
      "cell_type": "markdown",
      "source": [
        "* detachメソッド"
      ],
      "metadata": {
        "id": "Rejk5pDqiJlM"
      }
    },
    {
      "cell_type": "code",
      "metadata": {
        "id": "h2rDU_28zLok",
        "colab": {
          "base_uri": "https://localhost:8080/"
        },
        "outputId": "eabe7ec9-2914-48c4-80b7-9f8ea34dfd5e"
      },
      "source": [
        "x = torch.tensor(3.0, requires_grad=True)\n",
        "print(x.requires_grad)\n",
        "x = x.detach()\n",
        "print(x.requires_grad)"
      ],
      "execution_count": null,
      "outputs": [
        {
          "output_type": "stream",
          "name": "stdout",
          "text": [
            "True\n",
            "False\n"
          ]
        }
      ]
    },
    {
      "cell_type": "code",
      "metadata": {
        "id": "BYiICIm2AT28",
        "colab": {
          "base_uri": "https://localhost:8080/"
        },
        "outputId": "7182eda3-d8ab-4fcd-e97b-de43e3128be6"
      },
      "source": [
        "# f(x) = a*x**2 + b*x + cの、x=2におけるxに関する微分係数を求める\n",
        "\n",
        "x = torch.tensor(2.0, device=device, requires_grad=True)\n",
        "a = torch.tensor(1.0)\n",
        "b = torch.tensor(-2.0)\n",
        "c = torch.tensor(1.0)\n",
        "\n",
        "y = a * x ** 2 + b * x + c\n",
        "\n",
        "y.backward()\n",
        "print(x.grad)"
      ],
      "execution_count": null,
      "outputs": [
        {
          "output_type": "stream",
          "name": "stdout",
          "text": [
            "tensor(2., device='cuda:0')\n"
          ]
        }
      ]
    },
    {
      "cell_type": "markdown",
      "metadata": {
        "id": "3PqN5anRXKd-"
      },
      "source": [
        "### 計算グラフの可視化"
      ]
    },
    {
      "cell_type": "code",
      "metadata": {
        "id": "UdQtGCKfWejm",
        "colab": {
          "base_uri": "https://localhost:8080/"
        },
        "outputId": "db4a03e8-e5d3-4c9b-e939-1c2fd463fbd6"
      },
      "source": [
        "!pip install torchviz"
      ],
      "execution_count": null,
      "outputs": [
        {
          "output_type": "stream",
          "name": "stdout",
          "text": [
            "Looking in indexes: https://pypi.org/simple, https://us-python.pkg.dev/colab-wheels/public/simple/\n",
            "Collecting torchviz\n",
            "  Downloading torchviz-0.0.2.tar.gz (4.9 kB)\n",
            "Requirement already satisfied: torch in /usr/local/lib/python3.7/dist-packages (from torchviz) (1.12.1+cu113)\n",
            "Requirement already satisfied: graphviz in /usr/local/lib/python3.7/dist-packages (from torchviz) (0.10.1)\n",
            "Requirement already satisfied: typing-extensions in /usr/local/lib/python3.7/dist-packages (from torch->torchviz) (4.1.1)\n",
            "Building wheels for collected packages: torchviz\n",
            "  Building wheel for torchviz (setup.py) ... \u001b[?25l\u001b[?25hdone\n",
            "  Created wheel for torchviz: filename=torchviz-0.0.2-py3-none-any.whl size=4149 sha256=81baec205918bd7e4cffcb3402b29acba98631ae39c6ab151c492bb04b446e9f\n",
            "  Stored in directory: /root/.cache/pip/wheels/04/38/f5/dc4f85c3909051823df49901e72015d2d750bd26b086480ec2\n",
            "Successfully built torchviz\n",
            "Installing collected packages: torchviz\n",
            "Successfully installed torchviz-0.0.2\n"
          ]
        }
      ]
    },
    {
      "cell_type": "code",
      "metadata": {
        "id": "B-LsTdNcWkp5",
        "colab": {
          "base_uri": "https://localhost:8080/",
          "height": 600
        },
        "outputId": "29fe707a-2c5e-4e08-a653-4b99438505d8"
      },
      "source": [
        "from torchviz import make_dot\n",
        "\n",
        "x = torch.ones(2, 2, device=device, requires_grad=True)\n",
        "x_sum = x.sum()\n",
        "a = torch.tensor(1.0)\n",
        "b = torch.tensor(-2.0)\n",
        "c = torch.tensor(1.0)\n",
        "\n",
        "y = a * x_sum ** 2 + b * x_sum + c\n",
        "make_dot(y, params={'x':x})"
      ],
      "execution_count": null,
      "outputs": [
        {
          "output_type": "execute_result",
          "data": {
            "text/plain": [
              "<graphviz.dot.Digraph at 0x7faa4203a0d0>"
            ],
            "image/svg+xml": "<?xml version=\"1.0\" encoding=\"UTF-8\" standalone=\"no\"?>\n<!DOCTYPE svg PUBLIC \"-//W3C//DTD SVG 1.1//EN\"\n \"http://www.w3.org/Graphics/SVG/1.1/DTD/svg11.dtd\">\n<!-- Generated by graphviz version 2.40.1 (20161225.0304)\n -->\n<!-- Title: %3 Pages: 1 -->\n<svg width=\"204pt\" height=\"435pt\"\n viewBox=\"0.00 0.00 204.00 435.00\" xmlns=\"http://www.w3.org/2000/svg\" xmlns:xlink=\"http://www.w3.org/1999/xlink\">\n<g id=\"graph0\" class=\"graph\" transform=\"scale(1 1) rotate(0) translate(4 431)\">\n<title>%3</title>\n<polygon fill=\"#ffffff\" stroke=\"transparent\" points=\"-4,4 -4,-431 200,-431 200,4 -4,4\"/>\n<!-- 140366993987344 -->\n<g id=\"node1\" class=\"node\">\n<title>140366993987344</title>\n<polygon fill=\"#caff70\" stroke=\"#000000\" points=\"124.5,-31 70.5,-31 70.5,0 124.5,0 124.5,-31\"/>\n<text text-anchor=\"middle\" x=\"97.5\" y=\"-7\" font-family=\"monospace\" font-size=\"10.00\" fill=\"#000000\"> ()</text>\n</g>\n<!-- 140369228668432 -->\n<g id=\"node2\" class=\"node\">\n<title>140369228668432</title>\n<polygon fill=\"#d3d3d3\" stroke=\"#000000\" points=\"142,-86 53,-86 53,-67 142,-67 142,-86\"/>\n<text text-anchor=\"middle\" x=\"97.5\" y=\"-74\" font-family=\"monospace\" font-size=\"10.00\" fill=\"#000000\">AddBackward0</text>\n</g>\n<!-- 140369228668432&#45;&gt;140366993987344 -->\n<g id=\"edge9\" class=\"edge\">\n<title>140369228668432&#45;&gt;140366993987344</title>\n<path fill=\"none\" stroke=\"#000000\" d=\"M97.5,-66.9688C97.5,-60.1289 97.5,-50.5621 97.5,-41.5298\"/>\n<polygon fill=\"#000000\" stroke=\"#000000\" points=\"101.0001,-41.3678 97.5,-31.3678 94.0001,-41.3678 101.0001,-41.3678\"/>\n</g>\n<!-- 140369228668240 -->\n<g id=\"node3\" class=\"node\">\n<title>140369228668240</title>\n<polygon fill=\"#d3d3d3\" stroke=\"#000000\" points=\"142,-141 53,-141 53,-122 142,-122 142,-141\"/>\n<text text-anchor=\"middle\" x=\"97.5\" y=\"-129\" font-family=\"monospace\" font-size=\"10.00\" fill=\"#000000\">AddBackward0</text>\n</g>\n<!-- 140369228668240&#45;&gt;140369228668432 -->\n<g id=\"edge1\" class=\"edge\">\n<title>140369228668240&#45;&gt;140369228668432</title>\n<path fill=\"none\" stroke=\"#000000\" d=\"M97.5,-121.9197C97.5,-114.9083 97.5,-105.1442 97.5,-96.4652\"/>\n<polygon fill=\"#000000\" stroke=\"#000000\" points=\"101.0001,-96.3408 97.5,-86.3408 94.0001,-96.3409 101.0001,-96.3408\"/>\n</g>\n<!-- 140369228668496 -->\n<g id=\"node4\" class=\"node\">\n<title>140369228668496</title>\n<polygon fill=\"#d3d3d3\" stroke=\"#000000\" points=\"89,-196 0,-196 0,-177 89,-177 89,-196\"/>\n<text text-anchor=\"middle\" x=\"44.5\" y=\"-184\" font-family=\"monospace\" font-size=\"10.00\" fill=\"#000000\">MulBackward0</text>\n</g>\n<!-- 140369228668496&#45;&gt;140369228668240 -->\n<g id=\"edge2\" class=\"edge\">\n<title>140369228668496&#45;&gt;140369228668240</title>\n<path fill=\"none\" stroke=\"#000000\" d=\"M53.7319,-176.9197C61.2391,-169.1293 72.021,-157.9405 81.0049,-148.6176\"/>\n<polygon fill=\"#000000\" stroke=\"#000000\" points=\"83.5983,-150.9703 88.017,-141.3408 78.5578,-146.113 83.5983,-150.9703\"/>\n</g>\n<!-- 140369228668368 -->\n<g id=\"node5\" class=\"node\">\n<title>140369228668368</title>\n<polygon fill=\"#d3d3d3\" stroke=\"#000000\" points=\"106,-251 17,-251 17,-232 106,-232 106,-251\"/>\n<text text-anchor=\"middle\" x=\"61.5\" y=\"-239\" font-family=\"monospace\" font-size=\"10.00\" fill=\"#000000\">PowBackward0</text>\n</g>\n<!-- 140369228668368&#45;&gt;140369228668496 -->\n<g id=\"edge3\" class=\"edge\">\n<title>140369228668368&#45;&gt;140369228668496</title>\n<path fill=\"none\" stroke=\"#000000\" d=\"M58.5388,-231.9197C56.3476,-224.8304 53.2865,-214.9269 50.5818,-206.1763\"/>\n<polygon fill=\"#000000\" stroke=\"#000000\" points=\"53.8388,-204.8613 47.5417,-196.3408 47.1509,-206.9285 53.8388,-204.8613\"/>\n</g>\n<!-- 140369228668816 -->\n<g id=\"node6\" class=\"node\">\n<title>140369228668816</title>\n<polygon fill=\"#d3d3d3\" stroke=\"#000000\" points=\"142,-306 53,-306 53,-287 142,-287 142,-306\"/>\n<text text-anchor=\"middle\" x=\"97.5\" y=\"-294\" font-family=\"monospace\" font-size=\"10.00\" fill=\"#000000\">SumBackward0</text>\n</g>\n<!-- 140369228668816&#45;&gt;140369228668368 -->\n<g id=\"edge4\" class=\"edge\">\n<title>140369228668816&#45;&gt;140369228668368</title>\n<path fill=\"none\" stroke=\"#000000\" d=\"M91.2293,-286.9197C86.334,-279.4409 79.3888,-268.8301 73.4422,-259.745\"/>\n<polygon fill=\"#000000\" stroke=\"#000000\" points=\"76.3464,-257.791 67.9413,-251.3408 70.4894,-261.6247 76.3464,-257.791\"/>\n</g>\n<!-- 140369228668688 -->\n<g id=\"node9\" class=\"node\">\n<title>140369228668688</title>\n<polygon fill=\"#d3d3d3\" stroke=\"#000000\" points=\"196,-196 107,-196 107,-177 196,-177 196,-196\"/>\n<text text-anchor=\"middle\" x=\"151.5\" y=\"-184\" font-family=\"monospace\" font-size=\"10.00\" fill=\"#000000\">MulBackward0</text>\n</g>\n<!-- 140369228668816&#45;&gt;140369228668688 -->\n<g id=\"edge8\" class=\"edge\">\n<title>140369228668816&#45;&gt;140369228668688</title>\n<path fill=\"none\" stroke=\"#000000\" d=\"M102.2921,-286.7382C111.2812,-268.4271 130.8075,-228.6514 142.3779,-205.082\"/>\n<polygon fill=\"#000000\" stroke=\"#000000\" points=\"145.5308,-206.6019 146.7957,-196.0828 139.2471,-203.5171 145.5308,-206.6019\"/>\n</g>\n<!-- 140369228668752 -->\n<g id=\"node7\" class=\"node\">\n<title>140369228668752</title>\n<polygon fill=\"#d3d3d3\" stroke=\"#000000\" points=\"148,-361 47,-361 47,-342 148,-342 148,-361\"/>\n<text text-anchor=\"middle\" x=\"97.5\" y=\"-349\" font-family=\"monospace\" font-size=\"10.00\" fill=\"#000000\">AccumulateGrad</text>\n</g>\n<!-- 140369228668752&#45;&gt;140369228668816 -->\n<g id=\"edge5\" class=\"edge\">\n<title>140369228668752&#45;&gt;140369228668816</title>\n<path fill=\"none\" stroke=\"#000000\" d=\"M97.5,-341.9197C97.5,-334.9083 97.5,-325.1442 97.5,-316.4652\"/>\n<polygon fill=\"#000000\" stroke=\"#000000\" points=\"101.0001,-316.3408 97.5,-306.3408 94.0001,-316.3409 101.0001,-316.3408\"/>\n</g>\n<!-- 140369228607120 -->\n<g id=\"node8\" class=\"node\">\n<title>140369228607120</title>\n<polygon fill=\"#add8e6\" stroke=\"#000000\" points=\"127,-427 68,-427 68,-397 127,-397 127,-427\"/>\n<text text-anchor=\"middle\" x=\"97.5\" y=\"-415\" font-family=\"monospace\" font-size=\"10.00\" fill=\"#000000\">x</text>\n<text text-anchor=\"middle\" x=\"97.5\" y=\"-404\" font-family=\"monospace\" font-size=\"10.00\" fill=\"#000000\"> (2, 2)</text>\n</g>\n<!-- 140369228607120&#45;&gt;140369228668752 -->\n<g id=\"edge6\" class=\"edge\">\n<title>140369228607120&#45;&gt;140369228668752</title>\n<path fill=\"none\" stroke=\"#000000\" d=\"M97.5,-396.7333C97.5,-389.0322 97.5,-379.5977 97.5,-371.3414\"/>\n<polygon fill=\"#000000\" stroke=\"#000000\" points=\"101.0001,-371.0864 97.5,-361.0864 94.0001,-371.0864 101.0001,-371.0864\"/>\n</g>\n<!-- 140369228668688&#45;&gt;140369228668240 -->\n<g id=\"edge7\" class=\"edge\">\n<title>140369228668688&#45;&gt;140369228668240</title>\n<path fill=\"none\" stroke=\"#000000\" d=\"M142.0939,-176.9197C134.4451,-169.1293 123.4597,-157.9405 114.3064,-148.6176\"/>\n<polygon fill=\"#000000\" stroke=\"#000000\" points=\"116.6653,-146.0244 107.1619,-141.3408 111.6704,-150.9286 116.6653,-146.0244\"/>\n</g>\n</g>\n</svg>\n"
          },
          "metadata": {},
          "execution_count": 76
        }
      ]
    },
    {
      "cell_type": "markdown",
      "metadata": {
        "id": "G9RBnEz6bkT8"
      },
      "source": [
        "## autograd()を使った高階微分\n",
        "* 第一引数は微分される関数\n",
        "* 第二引数はそれに関して微分する変数\n",
        "* create_graphをTrueにすると、微分の計算をするだけでなく、計算グラフが作られる\n",
        " * すると、高階微分を計算できるようになる。"
      ]
    },
    {
      "cell_type": "markdown",
      "metadata": {
        "id": "mvwlRmblpoYh"
      },
      "source": [
        "例1. $y = ax^3 + bx^2 + cx + d$を、$x$について微分"
      ]
    },
    {
      "cell_type": "code",
      "metadata": {
        "id": "yni32jSLpgwh"
      },
      "source": [
        "x = torch.tensor(0.0, requires_grad=True)\n",
        "a = torch.tensor(1.0)\n",
        "b = torch.tensor(-2.0)\n",
        "c = torch.tensor(3.0)\n",
        "d = torch.tensor(5.0)\n",
        "y = a * x ** 3 + b * x ** 2 + c * x + d"
      ],
      "execution_count": null,
      "outputs": []
    },
    {
      "cell_type": "code",
      "metadata": {
        "id": "O7Of3KxWpz_3",
        "colab": {
          "base_uri": "https://localhost:8080/"
        },
        "outputId": "2826b873-90b1-4133-fc14-9e902315091a"
      },
      "source": [
        "dy_dx = torch.autograd.grad(y, x) #単に微分するだけ\n",
        "print(dy_dx) # 要素が一つだけのtupleになっている"
      ],
      "execution_count": null,
      "outputs": [
        {
          "output_type": "stream",
          "name": "stdout",
          "text": [
            "(tensor(3.),)\n"
          ]
        }
      ]
    },
    {
      "cell_type": "markdown",
      "metadata": {
        "id": "182AbHtyqWcm"
      },
      "source": [
        "例2. $y=x_1 x_2$を、$x_1$と$x_2$それぞれについて偏微分"
      ]
    },
    {
      "cell_type": "code",
      "metadata": {
        "id": "4d0exl5BqEYp"
      },
      "source": [
        "x1 = torch.tensor(3.0, requires_grad=True)\n",
        "x2 = torch.tensor(4.0, requires_grad=True)\n",
        "y = x1 * x2"
      ],
      "execution_count": null,
      "outputs": []
    },
    {
      "cell_type": "code",
      "metadata": {
        "id": "MTUSCu6lqxvm",
        "colab": {
          "base_uri": "https://localhost:8080/"
        },
        "outputId": "7253e218-f3c6-422d-c681-33f02a324263"
      },
      "source": [
        "dy_dx = torch.autograd.grad(y, (x1, x2)) # 単に微分するだけ\n",
        "print(dy_dx) # 要素が2つのtuple"
      ],
      "execution_count": null,
      "outputs": [
        {
          "output_type": "stream",
          "name": "stdout",
          "text": [
            "(tensor(4.), tensor(3.))\n"
          ]
        }
      ]
    },
    {
      "cell_type": "markdown",
      "metadata": {
        "id": "aLThUJSuqqfi"
      },
      "source": [
        "例3. $y = ax^3 + bx^2 + cx + d$を、$x$について微分し、さらにそれを$x$で微分する"
      ]
    },
    {
      "cell_type": "code",
      "metadata": {
        "id": "Byntago3q5Hl"
      },
      "source": [
        "x = torch.tensor(0.0, requires_grad=True)\n",
        "a = torch.tensor(1.0)\n",
        "b = torch.tensor(-2.0)\n",
        "c = torch.tensor(3.0)\n",
        "d = torch.tensor(5.0)\n",
        "y = a * x ** 3 + b * x ** 2 + c * x + d"
      ],
      "execution_count": null,
      "outputs": []
    },
    {
      "cell_type": "code",
      "metadata": {
        "id": "n1lr5L5SBOIj",
        "colab": {
          "base_uri": "https://localhost:8080/"
        },
        "outputId": "c74aafa0-eb55-4c6a-8369-4386d0f4058c"
      },
      "source": [
        "# backpropagationの計算の計算グラフを作らせる\n",
        "dy_dx = torch.autograd.grad(y, x, create_graph=True) \n",
        "print(dy_dx)\n",
        "print(dy_dx[0])"
      ],
      "execution_count": null,
      "outputs": [
        {
          "output_type": "stream",
          "name": "stdout",
          "text": [
            "(tensor(3., grad_fn=<AddBackward0>),)\n",
            "tensor(3., grad_fn=<AddBackward0>)\n"
          ]
        }
      ]
    },
    {
      "cell_type": "code",
      "source": [
        "# backpropagationの計算の計算グラフが表す関数をxで微分\n",
        "d２y_dx2 = torch.autograd.grad(dy_dx, x)\n",
        "print(d2y_dx2)\n",
        "print(d2y_dx2[0])"
      ],
      "metadata": {
        "id": "D6a79wWNRGn5",
        "colab": {
          "base_uri": "https://localhost:8080/"
        },
        "outputId": "87b21873-8d0e-47f9-9dfe-0989b8bcf832"
      },
      "execution_count": null,
      "outputs": [
        {
          "output_type": "stream",
          "name": "stdout",
          "text": [
            "(tensor(-4.),)\n",
            "tensor(-4.)\n"
          ]
        }
      ]
    },
    {
      "cell_type": "markdown",
      "metadata": {
        "id": "cZNfPAyHdpVs"
      },
      "source": [
        "### 多変数関数の偏微分とヘシアン"
      ]
    },
    {
      "cell_type": "markdown",
      "metadata": {
        "id": "7KQGlWRRrx9-"
      },
      "source": [
        "例. $y=(x_1+3x_2)^2$のヘシアンを求める"
      ]
    },
    {
      "cell_type": "code",
      "metadata": {
        "id": "13dhstNSsKi2"
      },
      "source": [
        "def func(x1, x2):\n",
        "  return (x1 + 3 * x2) ** 2\n",
        "\n",
        "x1 = torch.tensor(1.0, requires_grad=True)\n",
        "x2 = torch.tensor(2.0, requires_grad=True)\n",
        "y = func(x1, x2)"
      ],
      "execution_count": null,
      "outputs": []
    },
    {
      "cell_type": "code",
      "metadata": {
        "id": "VWrfQilec8PE",
        "colab": {
          "base_uri": "https://localhost:8080/"
        },
        "outputId": "3d88b245-98e5-4e41-e316-aed060c44360"
      },
      "source": [
        "dy_dx1, dy_dx2 = torch.autograd.grad(y, [x1, x2], create_graph=True)\n",
        "print(dy_dx1.data, dy_dx2.data)"
      ],
      "execution_count": null,
      "outputs": [
        {
          "output_type": "stream",
          "name": "stdout",
          "text": [
            "tensor(14.) tensor(42.)\n"
          ]
        }
      ]
    },
    {
      "cell_type": "code",
      "source": [
        "d2y_dx1dx1, d2y_dx1dx2 = torch.autograd.grad(dy_dx1, [x1, x2], retain_graph=True)\n",
        "print(d2y_dx1dx1.data, d2y_dx1dx2.data)"
      ],
      "metadata": {
        "id": "uOU5G0vdRTXP",
        "colab": {
          "base_uri": "https://localhost:8080/"
        },
        "outputId": "4f5676cf-fb2c-41b6-eb62-6a03bf9556a8"
      },
      "execution_count": null,
      "outputs": [
        {
          "output_type": "stream",
          "name": "stdout",
          "text": [
            "tensor(2.) tensor(6.)\n"
          ]
        }
      ]
    },
    {
      "cell_type": "code",
      "source": [
        "d2y_dx2dx1, d2y_dx2dx2 = torch.autograd.grad(dy_dx2, [x1, x2])\n",
        "print(d2y_dx2dx1.data, d2y_dx2dx2.data)"
      ],
      "metadata": {
        "id": "qZYOgfPaRUsJ",
        "colab": {
          "base_uri": "https://localhost:8080/"
        },
        "outputId": "c34ddc08-924a-47a3-9761-def415ba89e9"
      },
      "execution_count": null,
      "outputs": [
        {
          "output_type": "stream",
          "name": "stdout",
          "text": [
            "tensor(6.) tensor(18.)\n"
          ]
        }
      ]
    },
    {
      "cell_type": "code",
      "metadata": {
        "id": "87kXkqNWCpCn",
        "colab": {
          "base_uri": "https://localhost:8080/"
        },
        "outputId": "ab53a572-9fd1-4448-ab00-6ee02a2cb43c"
      },
      "source": [
        "# 答え合わせ\n",
        "print(torch.autograd.functional.hessian(func, inputs=(x1, x2)))"
      ],
      "execution_count": null,
      "outputs": [
        {
          "output_type": "stream",
          "name": "stdout",
          "text": [
            "((tensor(2.), tensor(6.)), (tensor(6.), tensor(18.)))\n"
          ]
        }
      ]
    },
    {
      "cell_type": "markdown",
      "metadata": {
        "id": "HkBqBy05iNM-"
      },
      "source": [
        "## 5. 自動微分を使った制約なし最適化"
      ]
    },
    {
      "cell_type": "markdown",
      "metadata": {
        "id": "jTYwK4oFsS1D"
      },
      "source": [
        "例. $f(x)=x^2-2x+1$を最小にする$x$を求める"
      ]
    },
    {
      "cell_type": "code",
      "metadata": {
        "id": "xag69ntVsdZM"
      },
      "source": [
        "# 関数の定義\n",
        "def f(x, a=1.0, b=-2.0, c=1.0):\n",
        "  return a * x ** 2 + b * x + c"
      ],
      "execution_count": null,
      "outputs": []
    },
    {
      "cell_type": "code",
      "metadata": {
        "id": "HsE2vqbKsgqi"
      },
      "source": [
        "# テンソルの準備\n",
        "x = torch.tensor(10.0, requires_grad=True)\n",
        "\n",
        "# 最適化手法のインスタンスを作る\n",
        "#   param: どの変数で微分するか\n",
        "#   lr: 学習率\n",
        "optimizer = torch.optim.SGD(params=[x], lr=0.1)"
      ],
      "execution_count": null,
      "outputs": []
    },
    {
      "cell_type": "code",
      "metadata": {
        "id": "Z8rOcDFviTVp",
        "colab": {
          "base_uri": "https://localhost:8080/"
        },
        "outputId": "efb6b623-a6fc-44f3-c78a-4ddcca79dd83"
      },
      "source": [
        "for i in range(1, 101):\n",
        "  optimizer.zero_grad()\n",
        "  y = f(x)\n",
        "  y.backward()\n",
        "  optimizer.step()\n",
        "  if i % 5 == 0:\n",
        "    print(f'iter {i} : f(x) = {y.data:.6f}, x = {x.data:.6f}')"
      ],
      "execution_count": null,
      "outputs": [
        {
          "output_type": "stream",
          "name": "stdout",
          "text": [
            "iter 5 : f(x) = 13.589545, x = 3.949120\n",
            "iter 10 : f(x) = 1.459167, x = 1.966368\n",
            "iter 15 : f(x) = 0.156677, x = 1.316659\n",
            "iter 20 : f(x) = 0.016823, x = 1.103763\n",
            "iter 25 : f(x) = 0.001806, x = 1.034001\n",
            "iter 30 : f(x) = 0.000194, x = 1.011142\n",
            "iter 35 : f(x) = 0.000021, x = 1.003651\n",
            "iter 40 : f(x) = 0.000002, x = 1.001196\n",
            "iter 45 : f(x) = 0.000000, x = 1.000392\n",
            "iter 50 : f(x) = 0.000000, x = 1.000128\n",
            "iter 55 : f(x) = 0.000000, x = 1.000042\n",
            "iter 60 : f(x) = 0.000000, x = 1.000014\n",
            "iter 65 : f(x) = 0.000000, x = 1.000005\n",
            "iter 70 : f(x) = 0.000000, x = 1.000001\n",
            "iter 75 : f(x) = 0.000000, x = 1.000000\n",
            "iter 80 : f(x) = 0.000000, x = 1.000000\n",
            "iter 85 : f(x) = 0.000000, x = 1.000000\n",
            "iter 90 : f(x) = 0.000000, x = 1.000000\n",
            "iter 95 : f(x) = 0.000000, x = 1.000000\n",
            "iter 100 : f(x) = 0.000000, x = 1.000000\n"
          ]
        }
      ]
    },
    {
      "cell_type": "markdown",
      "metadata": {
        "id": "y_74bIGBkIib"
      },
      "source": [
        "# 課題4\n",
        "関数$f(x_1,x_2)=x_1^2+x_2^2$の最小値と、$f(x_1,x_2)$がその最小値をとるときの$x_1$と$x_2$の値を、PyTorchの自動微分を使って求めよう。"
      ]
    },
    {
      "cell_type": "code",
      "source": [],
      "metadata": {
        "id": "WYBNRnlmU8m1"
      },
      "execution_count": null,
      "outputs": []
    }
  ]
}