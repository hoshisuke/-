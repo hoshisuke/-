{
  "nbformat": 4,
  "nbformat_minor": 0,
  "metadata": {
    "colab": {
      "provenance": []
    },
    "kernelspec": {
      "name": "python3",
      "display_name": "Python 3"
    },
    "language_info": {
      "name": "python"
    }
  },
  "cells": [
    {
      "cell_type": "code",
      "execution_count": null,
      "metadata": {
        "id": "xLkoYfxFZ2Lm"
      },
      "outputs": [],
      "source": [
        "import random\n",
        "import numpy as np\n",
        "import torch"
      ]
    },
    {
      "cell_type": "markdown",
      "source": [
        ">***自動微分を使って求める***"
      ],
      "metadata": {
        "id": "QLwYVCvFeiIc"
      }
    },
    {
      "cell_type": "code",
      "source": [
        "def f(x1,x2):\n",
        "  return x1**2 + x2**2"
      ],
      "metadata": {
        "id": "g67NnvAMa7OU"
      },
      "execution_count": null,
      "outputs": []
    },
    {
      "cell_type": "code",
      "source": [
        "#requires_gradをTrueにすると勾配を持つテンソルが作られ自動微分が出来る\n",
        "\n",
        "x1 = torch.tensor(float(input()), requires_grad=True)\n",
        "x2 = torch.tensor(float(input()), requires_grad=True)\n",
        "optimizer = torch.optim.SGD(params=[x1,x2],lr=0.1)"
      ],
      "metadata": {
        "colab": {
          "base_uri": "https://localhost:8080/"
        },
        "id": "xUNs5SQrcCrE",
        "outputId": "7c8d1fdf-d7dd-4bd2-dbe5-c9573306f59b"
      },
      "execution_count": null,
      "outputs": [
        {
          "name": "stdout",
          "output_type": "stream",
          "text": [
            "12\n",
            "14\n"
          ]
        }
      ]
    },
    {
      "cell_type": "code",
      "source": [
        "for i in range(1,101):\n",
        "  optimizer.zero_grad() #すべてのpramを最初は0にしておく。RNNなどでは古いモデルの勾配も参照してしまうことがあるから0にするのが一般的\n",
        "  y = f(x1,x2)\n",
        "  y.backward()\n",
        "  optimizer.step() #optimizerをupdate\n",
        "  if i % 5 == 0:\n",
        "    print(f\"iter{i} : f(x1,x2) = {y.data:.6f}, x1 = {x1.data:.6f}, x2 = {x2.data:.6f}\")"
      ],
      "metadata": {
        "colab": {
          "base_uri": "https://localhost:8080/"
        },
        "id": "aDIjmAfUcgMZ",
        "outputId": "082fc6ee-0b3f-4ede-8ef2-9194f1753519"
      },
      "execution_count": null,
      "outputs": [
        {
          "output_type": "stream",
          "name": "stdout",
          "text": [
            "iter5 : f(x1,x2) = 57.042542, x1 = 3.932160, x2 = 4.587520\n",
            "iter10 : f(x1,x2) = 6.124896, x1 = 1.288490, x2 = 1.503238\n",
            "iter15 : f(x1,x2) = 0.657656, x1 = 0.422213, x2 = 0.492581\n",
            "iter20 : f(x1,x2) = 0.070615, x1 = 0.138351, x2 = 0.161409\n",
            "iter25 : f(x1,x2) = 0.007582, x1 = 0.045335, x2 = 0.052890\n",
            "iter30 : f(x1,x2) = 0.000814, x1 = 0.014855, x2 = 0.017331\n",
            "iter35 : f(x1,x2) = 0.000087, x1 = 0.004868, x2 = 0.005679\n",
            "iter40 : f(x1,x2) = 0.000009, x1 = 0.001595, x2 = 0.001861\n",
            "iter45 : f(x1,x2) = 0.000001, x1 = 0.000523, x2 = 0.000610\n",
            "iter50 : f(x1,x2) = 0.000000, x1 = 0.000171, x2 = 0.000200\n",
            "iter55 : f(x1,x2) = 0.000000, x1 = 0.000056, x2 = 0.000065\n",
            "iter60 : f(x1,x2) = 0.000000, x1 = 0.000018, x2 = 0.000021\n",
            "iter65 : f(x1,x2) = 0.000000, x1 = 0.000006, x2 = 0.000007\n",
            "iter70 : f(x1,x2) = 0.000000, x1 = 0.000002, x2 = 0.000002\n",
            "iter75 : f(x1,x2) = 0.000000, x1 = 0.000001, x2 = 0.000001\n",
            "iter80 : f(x1,x2) = 0.000000, x1 = 0.000000, x2 = 0.000000\n",
            "iter85 : f(x1,x2) = 0.000000, x1 = 0.000000, x2 = 0.000000\n",
            "iter90 : f(x1,x2) = 0.000000, x1 = 0.000000, x2 = 0.000000\n",
            "iter95 : f(x1,x2) = 0.000000, x1 = 0.000000, x2 = 0.000000\n",
            "iter100 : f(x1,x2) = 0.000000, x1 = 0.000000, x2 = 0.000000\n"
          ]
        }
      ]
    },
    {
      "cell_type": "markdown",
      "source": [
        ">結論\n",
        "\n",
        "x1,　x2,　f(x1,x2)全て0に収束"
      ],
      "metadata": {
        "id": "9rFdd71R2069"
      }
    }
  ]
}